{
 "cells": [
  {
   "cell_type": "code",
   "execution_count": 1,
   "metadata": {
    "collapsed": true
   },
   "outputs": [],
   "source": [
    "import re\n",
    "import requests\n",
    "import pandas as pd"
   ]
  },
  {
   "cell_type": "code",
   "execution_count": 2,
   "metadata": {
    "collapsed": true
   },
   "outputs": [],
   "source": [
    "def generate_category(category):\n",
    "    '''\n",
    "    format a category for insertion in to a wikipedia api call\n",
    "    '''\n",
    "    category = re.sub('\\s', '+', category)\n",
    "    return category"
   ]
  },
  {
   "cell_type": "code",
   "execution_count": 3,
   "metadata": {},
   "outputs": [
    {
     "data": {
      "text/plain": [
       "'machine+learning'"
      ]
     },
     "execution_count": 3,
     "metadata": {},
     "output_type": "execute_result"
    }
   ],
   "source": [
    "generate_category('machine learning')"
   ]
  },
  {
   "cell_type": "code",
   "execution_count": 4,
   "metadata": {
    "collapsed": true
   },
   "outputs": [],
   "source": [
    "def generate_query(category):\n",
    "    '''\n",
    "    Format an api call for requests\n",
    "    '''\n",
    "    query = \"\"\"\n",
    "            http://en.wikipedia.org/w/api.php?\n",
    "            action=query&\n",
    "            format=json&\n",
    "            list=categorymembers&\n",
    "            cmtitle=Category:{}& \n",
    "            cmlimit=max\n",
    "            \"\"\".format(generate_category(category))\n",
    "    query = re.sub('\\s','',query)\n",
    "    return query"
   ]
  },
  {
   "cell_type": "code",
   "execution_count": 5,
   "metadata": {
    "collapsed": true
   },
   "outputs": [],
   "source": [
    "def execute_category_query(category):\n",
    "    '''\n",
    "    Executes a category qeury and returns a \n",
    "    DataFrame of the category members\n",
    "    '''\n",
    "    \n",
    "    r = requests.get(generate_query(category))\n",
    "    response = r.json()\n",
    "    return pd.DataFrame(response['query']['categorymembers'])"
   ]
  },
  {
   "cell_type": "code",
   "execution_count": 6,
   "metadata": {
    "collapsed": true
   },
   "outputs": [],
   "source": [
    "test = execute_category_query('machine learning')"
   ]
  },
  {
   "cell_type": "code",
   "execution_count": 7,
   "metadata": {},
   "outputs": [
    {
     "data": {
      "text/html": [
       "<div>\n",
       "<table border=\"1\" class=\"dataframe\">\n",
       "  <thead>\n",
       "    <tr style=\"text-align: right;\">\n",
       "      <th></th>\n",
       "      <th>ns</th>\n",
       "      <th>pageid</th>\n",
       "      <th>title</th>\n",
       "    </tr>\n",
       "  </thead>\n",
       "  <tbody>\n",
       "    <tr>\n",
       "      <th>0</th>\n",
       "      <td>0</td>\n",
       "      <td>43385931</td>\n",
       "      <td>Data exploration</td>\n",
       "    </tr>\n",
       "    <tr>\n",
       "      <th>1</th>\n",
       "      <td>0</td>\n",
       "      <td>49082762</td>\n",
       "      <td>List of datasets for machine learning research</td>\n",
       "    </tr>\n",
       "    <tr>\n",
       "      <th>2</th>\n",
       "      <td>0</td>\n",
       "      <td>233488</td>\n",
       "      <td>Machine learning</td>\n",
       "    </tr>\n",
       "    <tr>\n",
       "      <th>3</th>\n",
       "      <td>0</td>\n",
       "      <td>53587467</td>\n",
       "      <td>Outline of machine learning</td>\n",
       "    </tr>\n",
       "    <tr>\n",
       "      <th>4</th>\n",
       "      <td>0</td>\n",
       "      <td>53198248</td>\n",
       "      <td>Singular statistical model</td>\n",
       "    </tr>\n",
       "  </tbody>\n",
       "</table>\n",
       "</div>"
      ],
      "text/plain": [
       "   ns    pageid                                           title\n",
       "0   0  43385931                                Data exploration\n",
       "1   0  49082762  List of datasets for machine learning research\n",
       "2   0    233488                                Machine learning\n",
       "3   0  53587467                     Outline of machine learning\n",
       "4   0  53198248                      Singular statistical model"
      ]
     },
     "execution_count": 7,
     "metadata": {},
     "output_type": "execute_result"
    }
   ],
   "source": [
    "test.head()"
   ]
  },
  {
   "cell_type": "code",
   "execution_count": 8,
   "metadata": {
    "collapsed": true
   },
   "outputs": [],
   "source": [
    "category_mask = test['title'].str.contains('Category:')"
   ]
  },
  {
   "cell_type": "code",
   "execution_count": 9,
   "metadata": {},
   "outputs": [
    {
     "data": {
      "text/html": [
       "<div>\n",
       "<table border=\"1\" class=\"dataframe\">\n",
       "  <thead>\n",
       "    <tr style=\"text-align: right;\">\n",
       "      <th></th>\n",
       "      <th>ns</th>\n",
       "      <th>pageid</th>\n",
       "      <th>title</th>\n",
       "    </tr>\n",
       "  </thead>\n",
       "  <tbody>\n",
       "    <tr>\n",
       "      <th>198</th>\n",
       "      <td>14</td>\n",
       "      <td>33547387</td>\n",
       "      <td>Category:Applied machine learning</td>\n",
       "    </tr>\n",
       "    <tr>\n",
       "      <th>199</th>\n",
       "      <td>14</td>\n",
       "      <td>42936114</td>\n",
       "      <td>Category:Artificial neural networks</td>\n",
       "    </tr>\n",
       "    <tr>\n",
       "      <th>200</th>\n",
       "      <td>14</td>\n",
       "      <td>1718975</td>\n",
       "      <td>Category:Bayesian networks</td>\n",
       "    </tr>\n",
       "    <tr>\n",
       "      <th>201</th>\n",
       "      <td>14</td>\n",
       "      <td>1991254</td>\n",
       "      <td>Category:Classification algorithms</td>\n",
       "    </tr>\n",
       "    <tr>\n",
       "      <th>202</th>\n",
       "      <td>14</td>\n",
       "      <td>22532673</td>\n",
       "      <td>Category:Cluster analysis</td>\n",
       "    </tr>\n",
       "    <tr>\n",
       "      <th>203</th>\n",
       "      <td>14</td>\n",
       "      <td>34310097</td>\n",
       "      <td>Category:Computational learning theory</td>\n",
       "    </tr>\n",
       "    <tr>\n",
       "      <th>204</th>\n",
       "      <td>14</td>\n",
       "      <td>12932492</td>\n",
       "      <td>Category:Artificial intelligence conferences</td>\n",
       "    </tr>\n",
       "    <tr>\n",
       "      <th>205</th>\n",
       "      <td>14</td>\n",
       "      <td>33542714</td>\n",
       "      <td>Category:Data mining and machine learning soft...</td>\n",
       "    </tr>\n",
       "    <tr>\n",
       "      <th>206</th>\n",
       "      <td>14</td>\n",
       "      <td>42320378</td>\n",
       "      <td>Category:Datasets in machine learning</td>\n",
       "    </tr>\n",
       "    <tr>\n",
       "      <th>207</th>\n",
       "      <td>14</td>\n",
       "      <td>29549713</td>\n",
       "      <td>Category:Dimension reduction</td>\n",
       "    </tr>\n",
       "    <tr>\n",
       "      <th>208</th>\n",
       "      <td>14</td>\n",
       "      <td>3985352</td>\n",
       "      <td>Category:Ensemble learning</td>\n",
       "    </tr>\n",
       "    <tr>\n",
       "      <th>209</th>\n",
       "      <td>14</td>\n",
       "      <td>754055</td>\n",
       "      <td>Category:Evolutionary algorithms</td>\n",
       "    </tr>\n",
       "    <tr>\n",
       "      <th>210</th>\n",
       "      <td>14</td>\n",
       "      <td>3061615</td>\n",
       "      <td>Category:Genetic programming</td>\n",
       "    </tr>\n",
       "    <tr>\n",
       "      <th>211</th>\n",
       "      <td>14</td>\n",
       "      <td>29003796</td>\n",
       "      <td>Category:Inductive logic programming</td>\n",
       "    </tr>\n",
       "    <tr>\n",
       "      <th>212</th>\n",
       "      <td>14</td>\n",
       "      <td>12535256</td>\n",
       "      <td>Category:Kernel methods for machine learning</td>\n",
       "    </tr>\n",
       "    <tr>\n",
       "      <th>213</th>\n",
       "      <td>14</td>\n",
       "      <td>20924581</td>\n",
       "      <td>Category:Latent variable models</td>\n",
       "    </tr>\n",
       "    <tr>\n",
       "      <th>214</th>\n",
       "      <td>14</td>\n",
       "      <td>19314112</td>\n",
       "      <td>Category:Learning in computer vision</td>\n",
       "    </tr>\n",
       "    <tr>\n",
       "      <th>215</th>\n",
       "      <td>14</td>\n",
       "      <td>36407925</td>\n",
       "      <td>Category:Log-linear models</td>\n",
       "    </tr>\n",
       "    <tr>\n",
       "      <th>216</th>\n",
       "      <td>14</td>\n",
       "      <td>28004586</td>\n",
       "      <td>Category:Loss functions</td>\n",
       "    </tr>\n",
       "    <tr>\n",
       "      <th>217</th>\n",
       "      <td>14</td>\n",
       "      <td>33547228</td>\n",
       "      <td>Category:Machine learning algorithms</td>\n",
       "    </tr>\n",
       "    <tr>\n",
       "      <th>218</th>\n",
       "      <td>14</td>\n",
       "      <td>44943481</td>\n",
       "      <td>Category:Machine learning portal</td>\n",
       "    </tr>\n",
       "    <tr>\n",
       "      <th>219</th>\n",
       "      <td>14</td>\n",
       "      <td>47991509</td>\n",
       "      <td>Category:Machine learning task</td>\n",
       "    </tr>\n",
       "    <tr>\n",
       "      <th>220</th>\n",
       "      <td>14</td>\n",
       "      <td>24059390</td>\n",
       "      <td>Category:Markov models</td>\n",
       "    </tr>\n",
       "    <tr>\n",
       "      <th>221</th>\n",
       "      <td>14</td>\n",
       "      <td>3832584</td>\n",
       "      <td>Category:Machine learning researchers</td>\n",
       "    </tr>\n",
       "    <tr>\n",
       "      <th>222</th>\n",
       "      <td>14</td>\n",
       "      <td>52763829</td>\n",
       "      <td>Category:Semisupervised learning</td>\n",
       "    </tr>\n",
       "    <tr>\n",
       "      <th>223</th>\n",
       "      <td>14</td>\n",
       "      <td>11737376</td>\n",
       "      <td>Category:Statistical natural language processing</td>\n",
       "    </tr>\n",
       "    <tr>\n",
       "      <th>224</th>\n",
       "      <td>14</td>\n",
       "      <td>40149461</td>\n",
       "      <td>Category:Structured prediction</td>\n",
       "    </tr>\n",
       "    <tr>\n",
       "      <th>225</th>\n",
       "      <td>14</td>\n",
       "      <td>52763867</td>\n",
       "      <td>Category:Supervised learning</td>\n",
       "    </tr>\n",
       "    <tr>\n",
       "      <th>226</th>\n",
       "      <td>14</td>\n",
       "      <td>31176997</td>\n",
       "      <td>Category:Support vector machines</td>\n",
       "    </tr>\n",
       "    <tr>\n",
       "      <th>227</th>\n",
       "      <td>14</td>\n",
       "      <td>52763828</td>\n",
       "      <td>Category:Unsupervised learning</td>\n",
       "    </tr>\n",
       "  </tbody>\n",
       "</table>\n",
       "</div>"
      ],
      "text/plain": [
       "     ns    pageid                                              title\n",
       "198  14  33547387                  Category:Applied machine learning\n",
       "199  14  42936114                Category:Artificial neural networks\n",
       "200  14   1718975                         Category:Bayesian networks\n",
       "201  14   1991254                 Category:Classification algorithms\n",
       "202  14  22532673                          Category:Cluster analysis\n",
       "203  14  34310097             Category:Computational learning theory\n",
       "204  14  12932492       Category:Artificial intelligence conferences\n",
       "205  14  33542714  Category:Data mining and machine learning soft...\n",
       "206  14  42320378              Category:Datasets in machine learning\n",
       "207  14  29549713                       Category:Dimension reduction\n",
       "208  14   3985352                         Category:Ensemble learning\n",
       "209  14    754055                   Category:Evolutionary algorithms\n",
       "210  14   3061615                       Category:Genetic programming\n",
       "211  14  29003796               Category:Inductive logic programming\n",
       "212  14  12535256       Category:Kernel methods for machine learning\n",
       "213  14  20924581                    Category:Latent variable models\n",
       "214  14  19314112               Category:Learning in computer vision\n",
       "215  14  36407925                         Category:Log-linear models\n",
       "216  14  28004586                            Category:Loss functions\n",
       "217  14  33547228               Category:Machine learning algorithms\n",
       "218  14  44943481                   Category:Machine learning portal\n",
       "219  14  47991509                     Category:Machine learning task\n",
       "220  14  24059390                             Category:Markov models\n",
       "221  14   3832584              Category:Machine learning researchers\n",
       "222  14  52763829                   Category:Semisupervised learning\n",
       "223  14  11737376   Category:Statistical natural language processing\n",
       "224  14  40149461                     Category:Structured prediction\n",
       "225  14  52763867                       Category:Supervised learning\n",
       "226  14  31176997                   Category:Support vector machines\n",
       "227  14  52763828                     Category:Unsupervised learning"
      ]
     },
     "execution_count": 9,
     "metadata": {},
     "output_type": "execute_result"
    }
   ],
   "source": [
    "test[category_mask]"
   ]
  },
  {
   "cell_type": "code",
   "execution_count": 10,
   "metadata": {
    "collapsed": true
   },
   "outputs": [],
   "source": [
    "def remove_category(category):\n",
    "    category = re.sub('Category:', '', category)\n",
    "    return category"
   ]
  },
  {
   "cell_type": "code",
   "execution_count": 11,
   "metadata": {
    "collapsed": true
   },
   "outputs": [],
   "source": [
    "subcat_df_list = []\n",
    "categories_to_query = test[category_mask]['title'].apply(remove_category).tolist()"
   ]
  },
  {
   "cell_type": "code",
   "execution_count": 12,
   "metadata": {},
   "outputs": [
    {
     "data": {
      "text/plain": [
       "['Applied machine learning',\n",
       " 'Artificial neural networks',\n",
       " 'Bayesian networks',\n",
       " 'Classification algorithms',\n",
       " 'Cluster analysis',\n",
       " 'Computational learning theory',\n",
       " 'Artificial intelligence conferences',\n",
       " 'Data mining and machine learning software',\n",
       " 'Datasets in machine learning',\n",
       " 'Dimension reduction',\n",
       " 'Ensemble learning',\n",
       " 'Evolutionary algorithms',\n",
       " 'Genetic programming',\n",
       " 'Inductive logic programming',\n",
       " 'Kernel methods for machine learning',\n",
       " 'Latent variable models',\n",
       " 'Learning in computer vision',\n",
       " 'Log-linear models',\n",
       " 'Loss functions',\n",
       " 'Machine learning algorithms',\n",
       " 'Machine learning portal',\n",
       " 'Machine learning task',\n",
       " 'Markov models',\n",
       " 'Machine learning researchers',\n",
       " 'Semisupervised learning',\n",
       " 'Statistical natural language processing',\n",
       " 'Structured prediction',\n",
       " 'Supervised learning',\n",
       " 'Support vector machines',\n",
       " 'Unsupervised learning']"
      ]
     },
     "execution_count": 12,
     "metadata": {},
     "output_type": "execute_result"
    }
   ],
   "source": [
    "categories_to_query"
   ]
  },
  {
   "cell_type": "code",
   "execution_count": 13,
   "metadata": {
    "collapsed": true
   },
   "outputs": [],
   "source": [
    "for cat in categories_to_query:\n",
    "    subcat_df_list.append(execute_category_query(cat))"
   ]
  },
  {
   "cell_type": "code",
   "execution_count": 14,
   "metadata": {
    "collapsed": true
   },
   "outputs": [],
   "source": [
    "def get_all_pages_rec(category):\n",
    "    category_df = execute_category_query(category)\n",
    "    pages_list = []\n",
    "    category_mask = category_df['title'].str.contains('Category:')\n",
    "    pages_df = category_df[~category_mask]\n",
    "    pages_list.append(pages_df)\n",
    "    categories = category_df[category_mask]['title'].str.replace('Category:', '').tolist()\n",
    "    if len (categories) > 0:\n",
    "        for cat in categories:\n",
    "            pages_list.append(get_all_pages_rec(cat))\n",
    "    \n",
    "    pages_df = pd.concat(pages_list)\n",
    "    pages_df.reset_index()\n",
    "    return pages_df "
   ]
  },
  {
   "cell_type": "code",
   "execution_count": 16,
   "metadata": {},
   "outputs": [],
   "source": [
    "rec_test = get_all_pages_rec('machine learning')"
   ]
  },
  {
   "cell_type": "code",
   "execution_count": 17,
   "metadata": {
    "collapsed": true
   },
   "outputs": [],
   "source": [
    "def get_whole_category(category):\n",
    "    df = get_all_pages_rec(category)\n",
    "    df = df.drop_duplicates().reset_index(drop=True)\n",
    "    df['category'] = category\n",
    "    return df"
   ]
  },
  {
   "cell_type": "code",
   "execution_count": 18,
   "metadata": {
    "collapsed": true
   },
   "outputs": [],
   "source": [
    "df = get_whole_category('machine learning')"
   ]
  },
  {
   "cell_type": "code",
   "execution_count": 19,
   "metadata": {},
   "outputs": [
    {
     "data": {
      "text/plain": [
       "(1104, 4)"
      ]
     },
     "execution_count": 19,
     "metadata": {},
     "output_type": "execute_result"
    }
   ],
   "source": [
    "df.shape"
   ]
  },
  {
   "cell_type": "code",
   "execution_count": null,
   "metadata": {
    "collapsed": true
   },
   "outputs": [],
   "source": []
  }
 ],
 "metadata": {
  "kernelspec": {
   "display_name": "Python 3",
   "language": "python",
   "name": "python3"
  },
  "language_info": {
   "codemirror_mode": {
    "name": "ipython",
    "version": 3
   },
   "file_extension": ".py",
   "mimetype": "text/x-python",
   "name": "python",
   "nbconvert_exporter": "python",
   "pygments_lexer": "ipython3",
   "version": "3.5.2"
  }
 },
 "nbformat": 4,
 "nbformat_minor": 2
}
