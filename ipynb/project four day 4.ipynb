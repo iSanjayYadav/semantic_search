{
 "cells": [
  {
   "cell_type": "code",
   "execution_count": 2,
   "metadata": {},
   "outputs": [
    {
     "name": "stdout",
     "output_type": "stream",
     "text": [
      "Collecting pip\n",
      "  Downloading pip-9.0.1-py2.py3-none-any.whl (1.3MB)\n",
      "\u001b[K    100% |████████████████████████████████| 1.3MB 770kB/s ta 0:00:01\n",
      "\u001b[?25hInstalling collected packages: pip\n",
      "  Found existing installation: pip 8.1.2\n",
      "    Uninstalling pip-8.1.2:\n",
      "      Successfully uninstalled pip-8.1.2\n",
      "Successfully installed pip-9.0.1\n"
     ]
    }
   ],
   "source": [
    "!pip install --upgrade pip"
   ]
  },
  {
   "cell_type": "code",
   "execution_count": 3,
   "metadata": {},
   "outputs": [
    {
     "name": "stdout",
     "output_type": "stream",
     "text": [
      "Collecting psycopg2\n",
      "  Using cached psycopg2-2.7.3-cp35-cp35m-manylinux1_x86_64.whl\n",
      "Installing collected packages: psycopg2\n",
      "Successfully installed psycopg2-2.7.3\n",
      "\u001b[33mYou are using pip version 8.1.2, however version 9.0.1 is available.\n",
      "You should consider upgrading via the 'pip install --upgrade pip' command.\u001b[0m\n"
     ]
    }
   ],
   "source": [
    "!pip install psycopg2"
   ]
  },
  {
   "cell_type": "code",
   "execution_count": 4,
   "metadata": {
    "collapsed": true
   },
   "outputs": [],
   "source": [
    "import psycopg2 as pg2\n",
    "from psycopg2.extras import RealDictCursor\n",
    "import pandas as pd\n",
    "import numpy as np\n"
   ]
  },
  {
   "cell_type": "code",
   "execution_count": 16,
   "metadata": {
    "collapsed": true
   },
   "outputs": [],
   "source": [
    "connection = pg2.connect(host='postgres',\n",
    "                         user='postgres',\n",
    "                         database='postgres')\n",
    "cursor = connection.cursor(cursor_factory=RealDictCursor)"
   ]
  },
  {
   "cell_type": "code",
   "execution_count": 6,
   "metadata": {
    "collapsed": true
   },
   "outputs": [],
   "source": [
    "the_df = pd.read_pickle('../data/pages-df-text.p')"
   ]
  },
  {
   "cell_type": "code",
   "execution_count": 76,
   "metadata": {},
   "outputs": [
    {
     "data": {
      "text/html": [
       "<div>\n",
       "<table border=\"1\" class=\"dataframe\">\n",
       "  <thead>\n",
       "    <tr style=\"text-align: right;\">\n",
       "      <th></th>\n",
       "      <th>pageid</th>\n",
       "      <th>title</th>\n",
       "      <th>category</th>\n",
       "      <th>text</th>\n",
       "    </tr>\n",
       "  </thead>\n",
       "  <tbody>\n",
       "    <tr>\n",
       "      <th>0</th>\n",
       "      <td>43385931</td>\n",
       "      <td>Data exploration</td>\n",
       "      <td>machine learning</td>\n",
       "      <td>data exploration is an approach similar to ini...</td>\n",
       "    </tr>\n",
       "    <tr>\n",
       "      <th>1</th>\n",
       "      <td>49082762</td>\n",
       "      <td>List of datasets for machine learning research</td>\n",
       "      <td>machine learning</td>\n",
       "      <td>these datasets are used for machine learning r...</td>\n",
       "    </tr>\n",
       "    <tr>\n",
       "      <th>2</th>\n",
       "      <td>233488</td>\n",
       "      <td>Machine learning</td>\n",
       "      <td>machine learning</td>\n",
       "      <td>machine learning is the subfield of computer s...</td>\n",
       "    </tr>\n",
       "    <tr>\n",
       "      <th>3</th>\n",
       "      <td>53587467</td>\n",
       "      <td>Outline of machine learning</td>\n",
       "      <td>machine learning</td>\n",
       "      <td>the following outline is provided as an overvi...</td>\n",
       "    </tr>\n",
       "    <tr>\n",
       "      <th>4</th>\n",
       "      <td>53198248</td>\n",
       "      <td>Singular statistical model</td>\n",
       "      <td>machine learning</td>\n",
       "      <td>in machine learning if a statistical model is ...</td>\n",
       "    </tr>\n",
       "  </tbody>\n",
       "</table>\n",
       "</div>"
      ],
      "text/plain": [
       "     pageid                                           title          category  \\\n",
       "0  43385931                                Data exploration  machine learning   \n",
       "1  49082762  List of datasets for machine learning research  machine learning   \n",
       "2    233488                                Machine learning  machine learning   \n",
       "3  53587467                     Outline of machine learning  machine learning   \n",
       "4  53198248                      Singular statistical model  machine learning   \n",
       "\n",
       "                                                text  \n",
       "0  data exploration is an approach similar to ini...  \n",
       "1  these datasets are used for machine learning r...  \n",
       "2  machine learning is the subfield of computer s...  \n",
       "3  the following outline is provided as an overvi...  \n",
       "4  in machine learning if a statistical model is ...  "
      ]
     },
     "execution_count": 76,
     "metadata": {},
     "output_type": "execute_result"
    }
   ],
   "source": [
    "the_df.head()"
   ]
  },
  {
   "cell_type": "markdown",
   "metadata": {
    "collapsed": true
   },
   "source": [
    "Dummy code for entering data into database  \n",
    "``` \n",
    "cat_dict = {'machine learning':1, 'business software':2}\n",
    "for k, v in cat_dict.items():\n",
    "    insert v, k into category table\n",
    "\n",
    "for idx, row in df.iterrows():\n",
    "    insert row['pageid'], row['title'], row['text'] into page table\n",
    "    insert row['pageid'], cat_dict[row['category']] into page_category table \n",
    "    ```"
   ]
  },
  {
   "cell_type": "code",
   "execution_count": 8,
   "metadata": {
    "collapsed": true
   },
   "outputs": [],
   "source": [
    "cat_dict = {'machine learning': 1, 'business software': 2} "
   ]
  },
  {
   "cell_type": "code",
   "execution_count": 9,
   "metadata": {
    "collapsed": true
   },
   "outputs": [],
   "source": [
    "query = \"\"\"\n",
    "BEGIN;\n",
    "INSERT INTO category \n",
    "(category_id, category_title)\n",
    "VALUES (1, 'machine learning');\n",
    "COMMIT;\n",
    "\"\"\""
   ]
  },
  {
   "cell_type": "code",
   "execution_count": 10,
   "metadata": {
    "collapsed": true
   },
   "outputs": [],
   "source": [
    "cursor.execute(query)"
   ]
  },
  {
   "cell_type": "code",
   "execution_count": 11,
   "metadata": {
    "collapsed": true
   },
   "outputs": [],
   "source": [
    "query = \"\"\"\n",
    "BEGIN;\n",
    "INSERT INTO category \n",
    "(category_id, category_title)\n",
    "VALUES (2, 'business software');\n",
    "COMMIT;\n",
    "\"\"\""
   ]
  },
  {
   "cell_type": "code",
   "execution_count": 12,
   "metadata": {
    "collapsed": true
   },
   "outputs": [],
   "source": [
    "cursor.execute(query)"
   ]
  },
  {
   "cell_type": "code",
   "execution_count": 13,
   "metadata": {
    "collapsed": true
   },
   "outputs": [],
   "source": [
    "cursor.close()"
   ]
  },
  {
   "cell_type": "code",
   "execution_count": 14,
   "metadata": {
    "collapsed": true
   },
   "outputs": [],
   "source": [
    "import re\n",
    "def cleaner(message):\n",
    "    message = re.sub('\\.+', ' ', message)\n",
    "    message = re.sub('[^a-z0-9 ]','', message.lower())\n",
    "    message = re.sub('\\d+','NUMBER ',message)\n",
    "    message = re.sub('\\s+',' ',message)\n",
    "    return message"
   ]
  },
  {
   "cell_type": "code",
   "execution_count": 67,
   "metadata": {},
   "outputs": [],
   "source": [
    "connection = pg2.connect(host='postgres',\n",
    "                         user='postgres',\n",
    "                         database='postgres')\n",
    "cursor = connection.cursor(cursor_factory=RealDictCursor) \n",
    "\n",
    "for i, row in the_df.iterrows():\n",
    "    # check for duplicates\n",
    "    select_query = \"\"\"\n",
    "    SELECT 1 \n",
    "    FROM pages \n",
    "    WHERE page_id = {}\n",
    "    \"\"\".format(row['pageid'])\n",
    "    \n",
    "    cursor.execute(select_query)\n",
    "    if not cursor.fetchall():\n",
    "        # clean title \n",
    "        title = row['title']\n",
    "        title = cleaner(title)\n",
    "    \n",
    "        # query to input row into database\n",
    "        row_query = \"\"\"\n",
    "        BEGIN;\n",
    "        INSERT INTO pages\n",
    "        (page_id, page_title, page_text)\n",
    "        VALUES ({}, '{}', '{}');\n",
    "        COMMIT;\n",
    "        \"\"\".format(row['pageid'], title, row['text'], row['pageid'])\n",
    "        \n",
    "        cursor.execute(row_query) \n",
    "    \n",
    "    # query to input row into page_category table \n",
    "    row_cat = row['category']\n",
    "    cat_query = \"\"\"\n",
    "    BEGIN;\n",
    "    INSERT INTO page_category\n",
    "    (category_id, page_id)\n",
    "    VALUES ({}, {});\n",
    "    COMMIT;\n",
    "    \"\"\".format(cat_dict[row_cat], row['pageid'])\n",
    "    \n",
    "    # input row into databases\n",
    "    \n",
    "    cursor.execute(cat_query)"
   ]
  },
  {
   "cell_type": "code",
   "execution_count": 77,
   "metadata": {},
   "outputs": [],
   "source": [
    "connection = pg2.connect(host='postgres',\n",
    "                         user='postgres',\n",
    "                         database='postgres')\n",
    "cursor = connection.cursor(cursor_factory=RealDictCursor)\n",
    "\n",
    "check_query = \"\"\"\n",
    "\n",
    "SELECT * FROM pages;\n",
    "\n",
    "\"\"\"\n",
    "cursor.execute(check_query)\n",
    "test = pd.DataFrame(cursor.fetchall())"
   ]
  },
  {
   "cell_type": "code",
   "execution_count": 78,
   "metadata": {},
   "outputs": [
    {
     "data": {
      "text/plain": [
       "(2654, 3)"
      ]
     },
     "execution_count": 78,
     "metadata": {},
     "output_type": "execute_result"
    }
   ],
   "source": [
    "test.shape"
   ]
  },
  {
   "cell_type": "code",
   "execution_count": 79,
   "metadata": {
    "collapsed": true
   },
   "outputs": [],
   "source": [
    "cursor.close()"
   ]
  },
  {
   "cell_type": "code",
   "execution_count": 80,
   "metadata": {},
   "outputs": [
    {
     "data": {
      "text/html": [
       "<div>\n",
       "<table border=\"1\" class=\"dataframe\">\n",
       "  <thead>\n",
       "    <tr style=\"text-align: right;\">\n",
       "      <th></th>\n",
       "      <th>page_id</th>\n",
       "      <th>page_text</th>\n",
       "      <th>page_title</th>\n",
       "    </tr>\n",
       "  </thead>\n",
       "  <tbody>\n",
       "    <tr>\n",
       "      <th>0</th>\n",
       "      <td>43385931</td>\n",
       "      <td>data exploration is an approach similar to ini...</td>\n",
       "      <td>data exploration</td>\n",
       "    </tr>\n",
       "    <tr>\n",
       "      <th>1</th>\n",
       "      <td>49082762</td>\n",
       "      <td>these datasets are used for machine learning r...</td>\n",
       "      <td>list of datasets for machine learning research</td>\n",
       "    </tr>\n",
       "    <tr>\n",
       "      <th>2</th>\n",
       "      <td>233488</td>\n",
       "      <td>machine learning is the subfield of computer s...</td>\n",
       "      <td>machine learning</td>\n",
       "    </tr>\n",
       "    <tr>\n",
       "      <th>3</th>\n",
       "      <td>53587467</td>\n",
       "      <td>the following outline is provided as an overvi...</td>\n",
       "      <td>outline of machine learning</td>\n",
       "    </tr>\n",
       "    <tr>\n",
       "      <th>4</th>\n",
       "      <td>53198248</td>\n",
       "      <td>in machine learning if a statistical model is ...</td>\n",
       "      <td>singular statistical model</td>\n",
       "    </tr>\n",
       "  </tbody>\n",
       "</table>\n",
       "</div>"
      ],
      "text/plain": [
       "    page_id                                          page_text  \\\n",
       "0  43385931  data exploration is an approach similar to ini...   \n",
       "1  49082762  these datasets are used for machine learning r...   \n",
       "2    233488  machine learning is the subfield of computer s...   \n",
       "3  53587467  the following outline is provided as an overvi...   \n",
       "4  53198248  in machine learning if a statistical model is ...   \n",
       "\n",
       "                                       page_title  \n",
       "0                                data exploration  \n",
       "1  list of datasets for machine learning research  \n",
       "2                                machine learning  \n",
       "3                     outline of machine learning  \n",
       "4                      singular statistical model  "
      ]
     },
     "execution_count": 80,
     "metadata": {},
     "output_type": "execute_result"
    }
   ],
   "source": [
    "test.head()"
   ]
  },
  {
   "cell_type": "code",
   "execution_count": null,
   "metadata": {
    "collapsed": true
   },
   "outputs": [],
   "source": []
  }
 ],
 "metadata": {
  "kernelspec": {
   "display_name": "Python 3",
   "language": "python",
   "name": "python3"
  },
  "language_info": {
   "codemirror_mode": {
    "name": "ipython",
    "version": 3
   },
   "file_extension": ".py",
   "mimetype": "text/x-python",
   "name": "python",
   "nbconvert_exporter": "python",
   "pygments_lexer": "ipython3",
   "version": "3.5.2"
  }
 },
 "nbformat": 4,
 "nbformat_minor": 2
}
