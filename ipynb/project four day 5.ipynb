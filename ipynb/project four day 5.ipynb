{
 "cells": [
  {
   "cell_type": "code",
   "execution_count": 1,
   "metadata": {},
   "outputs": [],
   "source": [
    "import psycopg2 as pg2\n",
    "from psycopg2.extras import RealDictCursor\n",
    "import pandas as pd\n",
    "import numpy as np\n",
    "from sklearn.decomposition import TruncatedSVD\n",
    "from sklearn.feature_extraction.text import CountVectorizer, TfidfVectorizer\n",
    "from sklearn.feature_extraction.text import ENGLISH_STOP_WORDS"
   ]
  },
  {
   "cell_type": "code",
   "execution_count": 2,
   "metadata": {
    "collapsed": true
   },
   "outputs": [],
   "source": [
    "connection = pg2.connect(host='postgres',\n",
    "                         user='postgres',\n",
    "                         database='postgres')\n",
    "cursor = connection.cursor(cursor_factory=RealDictCursor)"
   ]
  },
  {
   "cell_type": "code",
   "execution_count": 3,
   "metadata": {
    "collapsed": true
   },
   "outputs": [],
   "source": [
    "cursor.execute(\"\"\"SELECT * FROM pages\"\"\")"
   ]
  },
  {
   "cell_type": "code",
   "execution_count": 4,
   "metadata": {
    "collapsed": true
   },
   "outputs": [],
   "source": [
    "df = pd.DataFrame(cursor.fetchall())\n",
    "cursor.close()"
   ]
  },
  {
   "cell_type": "code",
   "execution_count": 24,
   "metadata": {},
   "outputs": [],
   "source": [
    "tfidf_vectorizer = TfidfVectorizer(min_df = 7, stop_words = 'english')\n",
    "doc_matrix = tfidf_vectorizer.fit_transform(df['page_text'])"
   ]
  },
  {
   "cell_type": "code",
   "execution_count": 25,
   "metadata": {},
   "outputs": [],
   "source": [
    "tfdf = pd.DataFrame(doc_matrix.todense(), columns=tfidf_vectorizer.get_feature_names())"
   ]
  },
  {
   "cell_type": "code",
   "execution_count": 27,
   "metadata": {},
   "outputs": [
    {
     "data": {
      "text/plain": [
       "indistinguishable      0.071665\n",
       "iphi                   0.083939\n",
       "microprocessor         0.085751\n",
       "penalizes              0.094971\n",
       "justification          0.100208\n",
       "datadependent          0.100677\n",
       "distorted              0.104307\n",
       "recalled               0.108828\n",
       "expired                0.109235\n",
       "memorize               0.110479\n",
       "compactly              0.111667\n",
       "ptfrac                 0.111753\n",
       "flawed                 0.112355\n",
       "hamilton               0.117792\n",
       "jmathbf                0.118481\n",
       "severely               0.118874\n",
       "elaborated             0.119164\n",
       "principled             0.120604\n",
       "remark                 0.121121\n",
       "stimulated             0.122135\n",
       "discern                0.122314\n",
       "analogously            0.122360\n",
       "undesirable            0.124073\n",
       "remarkably             0.124305\n",
       "ll                     0.125375\n",
       "naively                0.128058\n",
       "conceivable            0.128186\n",
       "asum                   0.130073\n",
       "bsum                   0.130514\n",
       "vertically             0.131057\n",
       "                        ...    \n",
       "external              31.912992\n",
       "services              32.215733\n",
       "analysis              32.289773\n",
       "based                 32.638748\n",
       "using                 32.738271\n",
       "users                 32.956050\n",
       "machine               33.100237\n",
       "references            33.164908\n",
       "version               33.535407\n",
       "network               34.058436\n",
       "new                   34.705588\n",
       "neural                35.916541\n",
       "java                  36.450098\n",
       "application           39.821205\n",
       "web                   39.873938\n",
       "algorithm             40.204436\n",
       "information           40.311908\n",
       "systems               40.391961\n",
       "model                 42.730379\n",
       "used                  45.818625\n",
       "business              52.897233\n",
       "game                  53.096051\n",
       "project               53.237902\n",
       "company               53.844010\n",
       "learning              62.631349\n",
       "management            74.350071\n",
       "data                  81.156797\n",
       "software              89.190261\n",
       "displaystyle         132.305678\n",
       "number               367.117957\n",
       "dtype: float64"
      ]
     },
     "execution_count": 27,
     "metadata": {},
     "output_type": "execute_result"
    }
   ],
   "source": [
    "tfdf.sum(axis=0).sort_values()"
   ]
  },
  {
   "cell_type": "code",
   "execution_count": null,
   "metadata": {
    "collapsed": true
   },
   "outputs": [],
   "source": []
  }
 ],
 "metadata": {
  "kernelspec": {
   "display_name": "Python 3",
   "language": "python",
   "name": "python3"
  },
  "language_info": {
   "codemirror_mode": {
    "name": "ipython",
    "version": 3
   },
   "file_extension": ".py",
   "mimetype": "text/x-python",
   "name": "python",
   "nbconvert_exporter": "python",
   "pygments_lexer": "ipython3",
   "version": "3.5.2"
  }
 },
 "nbformat": 4,
 "nbformat_minor": 2
}
