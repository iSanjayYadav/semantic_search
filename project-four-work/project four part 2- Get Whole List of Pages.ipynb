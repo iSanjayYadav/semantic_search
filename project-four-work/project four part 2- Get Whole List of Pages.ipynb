{
 "cells": [
  {
   "cell_type": "code",
   "execution_count": 2,
   "metadata": {
    "collapsed": true
   },
   "outputs": [],
   "source": [
    "import re\n",
    "import pandas as pd\n",
    "import requests\n",
    "import numpy as np"
   ]
  },
  {
   "cell_type": "code",
   "execution_count": 3,
   "metadata": {
    "collapsed": true
   },
   "outputs": [],
   "source": [
    "def generate_category(category):\n",
    "    '''\n",
    "    format a category for insertion in to a wikipedia api call\n",
    "    '''\n",
    "    category = re.sub('\\s', '+', category)\n",
    "    return category\n",
    "\n",
    "def generate_query(category):\n",
    "    '''\n",
    "    Format an api call for requests\n",
    "    '''\n",
    "    query = \"\"\"\n",
    "            http://en.wikipedia.org/w/api.php?\n",
    "            action=query&\n",
    "            format=json&\n",
    "            list=categorymembers&\n",
    "            cmtitle=Category:{}& \n",
    "            cmlimit=max\n",
    "            \"\"\".format(generate_category(category))\n",
    "    query = re.sub('\\s','',query)\n",
    "    return query\n",
    "\n",
    "def execute_category_query(category):\n",
    "    '''\n",
    "    Executes a category qeury and returns a \n",
    "    DataFrame of the category members\n",
    "    '''\n",
    "    \n",
    "    r = requests.get(generate_query(category))\n",
    "    response = r.json()\n",
    "    return pd.DataFrame(response['query']['categorymembers'])\n",
    "\n",
    "def remove_category(category):\n",
    "    '''prepares subcategories to be queried'''\n",
    "    category = re.sub('Category:', '', category)\n",
    "    return category"
   ]
  },
  {
   "cell_type": "code",
   "execution_count": 4,
   "metadata": {
    "collapsed": true
   },
   "outputs": [],
   "source": [
    "# trying to fix for empty categories\n",
    "def get_all_pages_rec(category, max_depth=3):\n",
    "    '''\n",
    "    parameters:\n",
    "        category - the category to be searched\n",
    "        max_depth - the level of subcategories (i.e. max_depth=2 returns pages for category and pages for\n",
    "                    its first set of subcategories)\n",
    "    returns: a dataframe of pageid, ns, and title\n",
    "    '''\n",
    "\n",
    "    if max_depth > 0:\n",
    " #       print('depth:', max_depth,'- category:', category,)\n",
    "        category_df = execute_category_query(category)\n",
    "        pages_list = []\n",
    "        category_mask = category_df['title'].str.contains('Category:')\n",
    "        pages_df = category_df[~category_mask]\n",
    "        pages_list.append(pages_df)\n",
    "        categories = category_df[category_mask]['title'].str.replace('Category:', '').tolist()\n",
    "        if len (categories) > 0:\n",
    "            for cat in categories:\n",
    "                if 'club software' in cat.lower():\n",
    "                    continue\n",
    "                max_depth -= 1\n",
    "                pages_list.append(get_all_pages_rec(cat, max_depth))\n",
    "                max_depth += 1\n",
    "        pages_df = pd.concat(pages_list)\n",
    "        pages_df.reset_index()\n",
    "        return pages_df\n",
    "    else:\n",
    "        return\n",
    "\n",
    "def get_whole_category(category, max_depth=3):\n",
    "    '''\n",
    "    parameters:\n",
    "        category - the category to be searched\n",
    "        max_depth - the level of subcategories (i.e. max_depth=2 returns pages for category and pages for\n",
    "                    its first set of subcategories)\n",
    "    returns: a dataframe of pageid, title and category\n",
    "    '''\n",
    "    df = get_all_pages_rec(category, max_depth)\n",
    "    df = df.drop_duplicates().reset_index(drop=True)\n",
    "    df['category'] = category\n",
    "    df = df.drop('ns', axis = 1)\n",
    "    return df"
   ]
  },
  {
   "cell_type": "code",
   "execution_count": 5,
   "metadata": {
    "collapsed": true
   },
   "outputs": [],
   "source": [
    "ml_df = get_whole_category('machine learning', max_depth=5)"
   ]
  },
  {
   "cell_type": "code",
   "execution_count": 6,
   "metadata": {
    "collapsed": true
   },
   "outputs": [],
   "source": [
    "bs_df = get_whole_category('business software', max_depth=2)"
   ]
  },
  {
   "cell_type": "code",
   "execution_count": 9,
   "metadata": {},
   "outputs": [],
   "source": [
    "big_df = pd.concat([ml_df, bs_df])"
   ]
  },
  {
   "cell_type": "code",
   "execution_count": 10,
   "metadata": {},
   "outputs": [
    {
     "data": {
      "text/plain": [
       "(2658, 3)"
      ]
     },
     "execution_count": 10,
     "metadata": {},
     "output_type": "execute_result"
    }
   ],
   "source": [
    "big_df.shape"
   ]
  },
  {
   "cell_type": "code",
   "execution_count": 11,
   "metadata": {
    "collapsed": true
   },
   "outputs": [],
   "source": [
    "big_df.to_pickle('../data/pages-df.p')"
   ]
  }
 ],
 "metadata": {
  "kernelspec": {
   "display_name": "Python 3",
   "language": "python",
   "name": "python3"
  },
  "language_info": {
   "codemirror_mode": {
    "name": "ipython",
    "version": 3
   },
   "file_extension": ".py",
   "mimetype": "text/x-python",
   "name": "python",
   "nbconvert_exporter": "python",
   "pygments_lexer": "ipython3",
   "version": "3.5.2"
  }
 },
 "nbformat": 4,
 "nbformat_minor": 2
}
