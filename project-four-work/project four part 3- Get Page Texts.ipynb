{
 "cells": [
  {
   "cell_type": "code",
   "execution_count": 1,
   "metadata": {
    "collapsed": true
   },
   "outputs": [],
   "source": [
    "import re\n",
    "import pandas as pd\n",
    "import requests\n",
    "import numpy as np"
   ]
  },
  {
   "cell_type": "code",
   "execution_count": 3,
   "metadata": {
    "collapsed": true
   },
   "outputs": [],
   "source": [
    "pages_df = pd.read_pickle('../data/pages-df.p')"
   ]
  },
  {
   "cell_type": "code",
   "execution_count": 22,
   "metadata": {
    "collapsed": true
   },
   "outputs": [],
   "source": [
    "# define a function to clean text\n",
    "def cleaner(message):\n",
    "    message = re.sub('\\.+', ' ', message)\n",
    "    message = re.sub('[^a-z0-9 ]','', message.lower())\n",
    "    message = re.sub('\\d+','NUMBER ',message)\n",
    "    message = re.sub('\\s+',' ',message)\n",
    "    return message"
   ]
  },
  {
   "cell_type": "code",
   "execution_count": 26,
   "metadata": {
    "collapsed": true
   },
   "outputs": [],
   "source": [
    "# create array of page ids to iterate through\n",
    "page_ids = pages_df.pageid.values.tolist()"
   ]
  },
  {
   "cell_type": "code",
   "execution_count": 53,
   "metadata": {
    "collapsed": true
   },
   "outputs": [],
   "source": [
    "# initialize list for texts\n",
    "page_texts = []"
   ]
  },
  {
   "cell_type": "code",
   "execution_count": 54,
   "metadata": {
    "collapsed": true
   },
   "outputs": [],
   "source": [
    "for page in page_ids:\n",
    "    # get text\n",
    "    query = \\\n",
    "    'https://en.wikipedia.org/w/api.php?format=json&action=query&prop=extracts&explaintext&pageids={}'.format(page)\n",
    "    response = requests.get(query)\n",
    "    info = response.json()\n",
    "    text = info['query']['pages'][str(page)]['extract']\n",
    "    \n",
    "    # clean and put into list\n",
    "    text = cleaner(text)\n",
    "    page_texts.append(text)\n",
    "    "
   ]
  },
  {
   "cell_type": "code",
   "execution_count": 57,
   "metadata": {
    "collapsed": true
   },
   "outputs": [],
   "source": [
    "pages_df['text'] = page_texts"
   ]
  },
  {
   "cell_type": "code",
   "execution_count": 62,
   "metadata": {
    "collapsed": true
   },
   "outputs": [],
   "source": [
    "pages_df.reset_index(drop=True, inplace=True)"
   ]
  },
  {
   "cell_type": "code",
   "execution_count": 64,
   "metadata": {
    "collapsed": true
   },
   "outputs": [],
   "source": [
    "pages_df.to_pickle('../data/pages-df-text.p')"
   ]
  },
  {
   "cell_type": "code",
   "execution_count": 65,
   "metadata": {
    "collapsed": true
   },
   "outputs": [],
   "source": [
    "# put into sql database"
   ]
  },
  {
   "cell_type": "code",
   "execution_count": 66,
   "metadata": {},
   "outputs": [
    {
     "data": {
      "text/html": [
       "<div>\n",
       "<table border=\"1\" class=\"dataframe\">\n",
       "  <thead>\n",
       "    <tr style=\"text-align: right;\">\n",
       "      <th></th>\n",
       "      <th>pageid</th>\n",
       "      <th>title</th>\n",
       "      <th>category</th>\n",
       "      <th>text</th>\n",
       "    </tr>\n",
       "  </thead>\n",
       "  <tbody>\n",
       "    <tr>\n",
       "      <th>0</th>\n",
       "      <td>43385931</td>\n",
       "      <td>Data exploration</td>\n",
       "      <td>machine learning</td>\n",
       "      <td>data exploration is an approach similar to ini...</td>\n",
       "    </tr>\n",
       "    <tr>\n",
       "      <th>1</th>\n",
       "      <td>49082762</td>\n",
       "      <td>List of datasets for machine learning research</td>\n",
       "      <td>machine learning</td>\n",
       "      <td>these datasets are used for machine learning r...</td>\n",
       "    </tr>\n",
       "    <tr>\n",
       "      <th>2</th>\n",
       "      <td>233488</td>\n",
       "      <td>Machine learning</td>\n",
       "      <td>machine learning</td>\n",
       "      <td>machine learning is the subfield of computer s...</td>\n",
       "    </tr>\n",
       "    <tr>\n",
       "      <th>3</th>\n",
       "      <td>53587467</td>\n",
       "      <td>Outline of machine learning</td>\n",
       "      <td>machine learning</td>\n",
       "      <td>the following outline is provided as an overvi...</td>\n",
       "    </tr>\n",
       "    <tr>\n",
       "      <th>4</th>\n",
       "      <td>53198248</td>\n",
       "      <td>Singular statistical model</td>\n",
       "      <td>machine learning</td>\n",
       "      <td>in machine learning if a statistical model is ...</td>\n",
       "    </tr>\n",
       "  </tbody>\n",
       "</table>\n",
       "</div>"
      ],
      "text/plain": [
       "     pageid                                           title          category  \\\n",
       "0  43385931                                Data exploration  machine learning   \n",
       "1  49082762  List of datasets for machine learning research  machine learning   \n",
       "2    233488                                Machine learning  machine learning   \n",
       "3  53587467                     Outline of machine learning  machine learning   \n",
       "4  53198248                      Singular statistical model  machine learning   \n",
       "\n",
       "                                                text  \n",
       "0  data exploration is an approach similar to ini...  \n",
       "1  these datasets are used for machine learning r...  \n",
       "2  machine learning is the subfield of computer s...  \n",
       "3  the following outline is provided as an overvi...  \n",
       "4  in machine learning if a statistical model is ...  "
      ]
     },
     "execution_count": 66,
     "metadata": {},
     "output_type": "execute_result"
    }
   ],
   "source": [
    "pages_df.head()"
   ]
  },
  {
   "cell_type": "code",
   "execution_count": null,
   "metadata": {
    "collapsed": true
   },
   "outputs": [],
   "source": []
  }
 ],
 "metadata": {
  "kernelspec": {
   "display_name": "Python 3",
   "language": "python",
   "name": "python3"
  },
  "language_info": {
   "codemirror_mode": {
    "name": "ipython",
    "version": 3
   },
   "file_extension": ".py",
   "mimetype": "text/x-python",
   "name": "python",
   "nbconvert_exporter": "python",
   "pygments_lexer": "ipython3",
   "version": "3.5.2"
  }
 },
 "nbformat": 4,
 "nbformat_minor": 2
}
