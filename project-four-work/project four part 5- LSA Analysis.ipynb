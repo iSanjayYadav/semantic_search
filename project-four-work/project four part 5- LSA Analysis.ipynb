{
 "cells": [
  {
   "cell_type": "code",
   "execution_count": 2,
   "metadata": {
    "collapsed": true
   },
   "outputs": [],
   "source": [
    "import psycopg2 as pg2\n",
    "from psycopg2.extras import RealDictCursor\n",
    "import pandas as pd\n",
    "import numpy as np\n",
    "from sklearn.decomposition import TruncatedSVD\n",
    "from sklearn.feature_extraction.text import CountVectorizer, TfidfVectorizer\n",
    "from sklearn.feature_extraction.text import ENGLISH_STOP_WORDS"
   ]
  },
  {
   "cell_type": "code",
   "execution_count": 3,
   "metadata": {
    "collapsed": true
   },
   "outputs": [],
   "source": [
    "connection = pg2.connect(host='postgres',\n",
    "                         user='postgres',\n",
    "                         database='postgres')\n",
    "cursor = connection.cursor(cursor_factory=RealDictCursor)"
   ]
  },
  {
   "cell_type": "code",
   "execution_count": 4,
   "metadata": {
    "collapsed": true
   },
   "outputs": [],
   "source": [
    "cursor.execute(\"\"\"SELECT * FROM pages\"\"\")"
   ]
  },
  {
   "cell_type": "code",
   "execution_count": 5,
   "metadata": {
    "collapsed": true
   },
   "outputs": [],
   "source": [
    "df = pd.DataFrame(cursor.fetchall())\n",
    "cursor.close()"
   ]
  },
  {
   "cell_type": "code",
   "execution_count": 6,
   "metadata": {
    "collapsed": true
   },
   "outputs": [],
   "source": [
    "tfidf_vectorizer = TfidfVectorizer(min_df = 7, stop_words = 'english')\n",
    "doc_matrix = tfidf_vectorizer.fit_transform(df['page_text'])"
   ]
  },
  {
   "cell_type": "code",
   "execution_count": 7,
   "metadata": {
    "collapsed": true
   },
   "outputs": [],
   "source": [
    "tfdf = pd.DataFrame(doc_matrix.todense(), columns=tfidf_vectorizer.get_feature_names())"
   ]
  },
  {
   "cell_type": "code",
   "execution_count": 8,
   "metadata": {},
   "outputs": [
    {
     "data": {
      "text/html": [
       "<div>\n",
       "<table border=\"1\" class=\"dataframe\">\n",
       "  <thead>\n",
       "    <tr style=\"text-align: right;\">\n",
       "      <th></th>\n",
       "      <th>aaai</th>\n",
       "      <th>aaron</th>\n",
       "      <th>ab</th>\n",
       "      <th>abandoned</th>\n",
       "      <th>abb</th>\n",
       "      <th>abbreviated</th>\n",
       "      <th>abbreviation</th>\n",
       "      <th>abc</th>\n",
       "      <th>abilities</th>\n",
       "      <th>ability</th>\n",
       "      <th>...</th>\n",
       "      <th>zk</th>\n",
       "      <th>znumber</th>\n",
       "      <th>zone</th>\n",
       "      <th>zones</th>\n",
       "      <th>zoo</th>\n",
       "      <th>zoom</th>\n",
       "      <th>zos</th>\n",
       "      <th>zsum</th>\n",
       "      <th>zur</th>\n",
       "      <th>zurich</th>\n",
       "    </tr>\n",
       "  </thead>\n",
       "  <tbody>\n",
       "    <tr>\n",
       "      <th>0</th>\n",
       "      <td>0.0</td>\n",
       "      <td>0.0</td>\n",
       "      <td>0.0</td>\n",
       "      <td>0.000000</td>\n",
       "      <td>0.0</td>\n",
       "      <td>0.0</td>\n",
       "      <td>0.0</td>\n",
       "      <td>0.0</td>\n",
       "      <td>0.0</td>\n",
       "      <td>0.000000</td>\n",
       "      <td>...</td>\n",
       "      <td>0.0</td>\n",
       "      <td>0.0</td>\n",
       "      <td>0.0</td>\n",
       "      <td>0.0</td>\n",
       "      <td>0.0</td>\n",
       "      <td>0.0</td>\n",
       "      <td>0.0</td>\n",
       "      <td>0.0</td>\n",
       "      <td>0.0</td>\n",
       "      <td>0.0</td>\n",
       "    </tr>\n",
       "    <tr>\n",
       "      <th>1</th>\n",
       "      <td>0.0</td>\n",
       "      <td>0.0</td>\n",
       "      <td>0.0</td>\n",
       "      <td>0.000000</td>\n",
       "      <td>0.0</td>\n",
       "      <td>0.0</td>\n",
       "      <td>0.0</td>\n",
       "      <td>0.0</td>\n",
       "      <td>0.0</td>\n",
       "      <td>0.000000</td>\n",
       "      <td>...</td>\n",
       "      <td>0.0</td>\n",
       "      <td>0.0</td>\n",
       "      <td>0.0</td>\n",
       "      <td>0.0</td>\n",
       "      <td>0.0</td>\n",
       "      <td>0.0</td>\n",
       "      <td>0.0</td>\n",
       "      <td>0.0</td>\n",
       "      <td>0.0</td>\n",
       "      <td>0.0</td>\n",
       "    </tr>\n",
       "    <tr>\n",
       "      <th>2</th>\n",
       "      <td>0.0</td>\n",
       "      <td>0.0</td>\n",
       "      <td>0.0</td>\n",
       "      <td>0.012862</td>\n",
       "      <td>0.0</td>\n",
       "      <td>0.0</td>\n",
       "      <td>0.0</td>\n",
       "      <td>0.0</td>\n",
       "      <td>0.0</td>\n",
       "      <td>0.035401</td>\n",
       "      <td>...</td>\n",
       "      <td>0.0</td>\n",
       "      <td>0.0</td>\n",
       "      <td>0.0</td>\n",
       "      <td>0.0</td>\n",
       "      <td>0.0</td>\n",
       "      <td>0.0</td>\n",
       "      <td>0.0</td>\n",
       "      <td>0.0</td>\n",
       "      <td>0.0</td>\n",
       "      <td>0.0</td>\n",
       "    </tr>\n",
       "    <tr>\n",
       "      <th>3</th>\n",
       "      <td>0.0</td>\n",
       "      <td>0.0</td>\n",
       "      <td>0.0</td>\n",
       "      <td>0.000000</td>\n",
       "      <td>0.0</td>\n",
       "      <td>0.0</td>\n",
       "      <td>0.0</td>\n",
       "      <td>0.0</td>\n",
       "      <td>0.0</td>\n",
       "      <td>0.015593</td>\n",
       "      <td>...</td>\n",
       "      <td>0.0</td>\n",
       "      <td>0.0</td>\n",
       "      <td>0.0</td>\n",
       "      <td>0.0</td>\n",
       "      <td>0.0</td>\n",
       "      <td>0.0</td>\n",
       "      <td>0.0</td>\n",
       "      <td>0.0</td>\n",
       "      <td>0.0</td>\n",
       "      <td>0.0</td>\n",
       "    </tr>\n",
       "    <tr>\n",
       "      <th>4</th>\n",
       "      <td>0.0</td>\n",
       "      <td>0.0</td>\n",
       "      <td>0.0</td>\n",
       "      <td>0.000000</td>\n",
       "      <td>0.0</td>\n",
       "      <td>0.0</td>\n",
       "      <td>0.0</td>\n",
       "      <td>0.0</td>\n",
       "      <td>0.0</td>\n",
       "      <td>0.000000</td>\n",
       "      <td>...</td>\n",
       "      <td>0.0</td>\n",
       "      <td>0.0</td>\n",
       "      <td>0.0</td>\n",
       "      <td>0.0</td>\n",
       "      <td>0.0</td>\n",
       "      <td>0.0</td>\n",
       "      <td>0.0</td>\n",
       "      <td>0.0</td>\n",
       "      <td>0.0</td>\n",
       "      <td>0.0</td>\n",
       "    </tr>\n",
       "  </tbody>\n",
       "</table>\n",
       "<p>5 rows × 9627 columns</p>\n",
       "</div>"
      ],
      "text/plain": [
       "   aaai  aaron   ab  abandoned  abb  abbreviated  abbreviation  abc  \\\n",
       "0   0.0    0.0  0.0   0.000000  0.0          0.0           0.0  0.0   \n",
       "1   0.0    0.0  0.0   0.000000  0.0          0.0           0.0  0.0   \n",
       "2   0.0    0.0  0.0   0.012862  0.0          0.0           0.0  0.0   \n",
       "3   0.0    0.0  0.0   0.000000  0.0          0.0           0.0  0.0   \n",
       "4   0.0    0.0  0.0   0.000000  0.0          0.0           0.0  0.0   \n",
       "\n",
       "   abilities   ability   ...     zk  znumber  zone  zones  zoo  zoom  zos  \\\n",
       "0        0.0  0.000000   ...    0.0      0.0   0.0    0.0  0.0   0.0  0.0   \n",
       "1        0.0  0.000000   ...    0.0      0.0   0.0    0.0  0.0   0.0  0.0   \n",
       "2        0.0  0.035401   ...    0.0      0.0   0.0    0.0  0.0   0.0  0.0   \n",
       "3        0.0  0.015593   ...    0.0      0.0   0.0    0.0  0.0   0.0  0.0   \n",
       "4        0.0  0.000000   ...    0.0      0.0   0.0    0.0  0.0   0.0  0.0   \n",
       "\n",
       "   zsum  zur  zurich  \n",
       "0   0.0  0.0     0.0  \n",
       "1   0.0  0.0     0.0  \n",
       "2   0.0  0.0     0.0  \n",
       "3   0.0  0.0     0.0  \n",
       "4   0.0  0.0     0.0  \n",
       "\n",
       "[5 rows x 9627 columns]"
      ]
     },
     "execution_count": 8,
     "metadata": {},
     "output_type": "execute_result"
    }
   ],
   "source": [
    "tfdf.head()"
   ]
  },
  {
   "cell_type": "code",
   "execution_count": 9,
   "metadata": {
    "collapsed": true
   },
   "outputs": [],
   "source": [
    "n_components = 10\n",
    "SVD = TruncatedSVD(n_components)\n",
    "component_names = [\"component_\"+str(i+1) for i in range(n_components)]"
   ]
  },
  {
   "cell_type": "code",
   "execution_count": 10,
   "metadata": {
    "collapsed": true
   },
   "outputs": [],
   "source": [
    "svd_matrix = SVD.fit_transform(tfdf)"
   ]
  },
  {
   "cell_type": "code",
   "execution_count": 11,
   "metadata": {},
   "outputs": [
    {
     "data": {
      "text/plain": [
       "array([ 0.01261873,  0.02707777,  0.01199098,  0.01156954,  0.009957  ,\n",
       "        0.00811692,  0.00645685,  0.00596301,  0.00540565,  0.00491853])"
      ]
     },
     "execution_count": 11,
     "metadata": {},
     "output_type": "execute_result"
    }
   ],
   "source": [
    "SVD.explained_variance_ratio_"
   ]
  },
  {
   "cell_type": "code",
   "execution_count": 12,
   "metadata": {},
   "outputs": [
    {
     "data": {
      "text/plain": [
       "0.10407499186148052"
      ]
     },
     "execution_count": 12,
     "metadata": {},
     "output_type": "execute_result"
    }
   ],
   "source": [
    "sum(SVD.explained_variance_ratio_)"
   ]
  },
  {
   "cell_type": "code",
   "execution_count": 13,
   "metadata": {
    "collapsed": true
   },
   "outputs": [],
   "source": [
    "svd_df = pd.DataFrame(svd_matrix, columns=component_names)"
   ]
  },
  {
   "cell_type": "code",
   "execution_count": 14,
   "metadata": {
    "collapsed": true
   },
   "outputs": [],
   "source": [
    "svd_df['article'] = df['page_title'].values"
   ]
  },
  {
   "cell_type": "code",
   "execution_count": 15,
   "metadata": {},
   "outputs": [
    {
     "data": {
      "text/html": [
       "<div>\n",
       "<table border=\"1\" class=\"dataframe\">\n",
       "  <thead>\n",
       "    <tr style=\"text-align: right;\">\n",
       "      <th></th>\n",
       "      <th>component_1</th>\n",
       "      <th>component_2</th>\n",
       "      <th>component_3</th>\n",
       "      <th>component_4</th>\n",
       "      <th>component_5</th>\n",
       "      <th>component_6</th>\n",
       "      <th>component_7</th>\n",
       "      <th>component_8</th>\n",
       "      <th>component_9</th>\n",
       "      <th>component_10</th>\n",
       "      <th>article</th>\n",
       "    </tr>\n",
       "  </thead>\n",
       "  <tbody>\n",
       "    <tr>\n",
       "      <th>0</th>\n",
       "      <td>0.163497</td>\n",
       "      <td>-0.027543</td>\n",
       "      <td>0.274572</td>\n",
       "      <td>0.068424</td>\n",
       "      <td>0.063024</td>\n",
       "      <td>-0.056614</td>\n",
       "      <td>-0.259646</td>\n",
       "      <td>-0.107149</td>\n",
       "      <td>0.025732</td>\n",
       "      <td>0.163337</td>\n",
       "      <td>data exploration</td>\n",
       "    </tr>\n",
       "    <tr>\n",
       "      <th>1</th>\n",
       "      <td>0.126187</td>\n",
       "      <td>0.002246</td>\n",
       "      <td>0.222394</td>\n",
       "      <td>0.135766</td>\n",
       "      <td>0.004412</td>\n",
       "      <td>-0.052737</td>\n",
       "      <td>-0.048694</td>\n",
       "      <td>-0.069047</td>\n",
       "      <td>0.129668</td>\n",
       "      <td>0.059332</td>\n",
       "      <td>list of datasets for machine learning research</td>\n",
       "    </tr>\n",
       "    <tr>\n",
       "      <th>2</th>\n",
       "      <td>0.306683</td>\n",
       "      <td>0.098547</td>\n",
       "      <td>0.495210</td>\n",
       "      <td>0.358147</td>\n",
       "      <td>-0.046084</td>\n",
       "      <td>-0.119613</td>\n",
       "      <td>0.017965</td>\n",
       "      <td>-0.096993</td>\n",
       "      <td>0.322916</td>\n",
       "      <td>0.016598</td>\n",
       "      <td>machine learning</td>\n",
       "    </tr>\n",
       "    <tr>\n",
       "      <th>3</th>\n",
       "      <td>0.298169</td>\n",
       "      <td>0.062502</td>\n",
       "      <td>0.374157</td>\n",
       "      <td>0.341144</td>\n",
       "      <td>-0.171761</td>\n",
       "      <td>-0.089531</td>\n",
       "      <td>0.140898</td>\n",
       "      <td>-0.038700</td>\n",
       "      <td>0.352937</td>\n",
       "      <td>-0.002627</td>\n",
       "      <td>outline of machine learning</td>\n",
       "    </tr>\n",
       "    <tr>\n",
       "      <th>4</th>\n",
       "      <td>0.086710</td>\n",
       "      <td>0.037911</td>\n",
       "      <td>0.123212</td>\n",
       "      <td>0.100944</td>\n",
       "      <td>-0.038818</td>\n",
       "      <td>-0.024713</td>\n",
       "      <td>0.055970</td>\n",
       "      <td>0.054479</td>\n",
       "      <td>-0.047953</td>\n",
       "      <td>-0.058698</td>\n",
       "      <td>singular statistical model</td>\n",
       "    </tr>\n",
       "  </tbody>\n",
       "</table>\n",
       "</div>"
      ],
      "text/plain": [
       "   component_1  component_2  component_3  component_4  component_5  \\\n",
       "0     0.163497    -0.027543     0.274572     0.068424     0.063024   \n",
       "1     0.126187     0.002246     0.222394     0.135766     0.004412   \n",
       "2     0.306683     0.098547     0.495210     0.358147    -0.046084   \n",
       "3     0.298169     0.062502     0.374157     0.341144    -0.171761   \n",
       "4     0.086710     0.037911     0.123212     0.100944    -0.038818   \n",
       "\n",
       "   component_6  component_7  component_8  component_9  component_10  \\\n",
       "0    -0.056614    -0.259646    -0.107149     0.025732      0.163337   \n",
       "1    -0.052737    -0.048694    -0.069047     0.129668      0.059332   \n",
       "2    -0.119613     0.017965    -0.096993     0.322916      0.016598   \n",
       "3    -0.089531     0.140898    -0.038700     0.352937     -0.002627   \n",
       "4    -0.024713     0.055970     0.054479    -0.047953     -0.058698   \n",
       "\n",
       "                                          article  \n",
       "0                                data exploration  \n",
       "1  list of datasets for machine learning research  \n",
       "2                                machine learning  \n",
       "3                     outline of machine learning  \n",
       "4                      singular statistical model  "
      ]
     },
     "execution_count": 15,
     "metadata": {},
     "output_type": "execute_result"
    }
   ],
   "source": [
    "svd_df.head()"
   ]
  },
  {
   "cell_type": "code",
   "execution_count": 16,
   "metadata": {},
   "outputs": [
    {
     "data": {
      "text/html": [
       "<div>\n",
       "<table border=\"1\" class=\"dataframe\">\n",
       "  <thead>\n",
       "    <tr style=\"text-align: right;\">\n",
       "      <th></th>\n",
       "      <th>component_1</th>\n",
       "      <th>article</th>\n",
       "    </tr>\n",
       "  </thead>\n",
       "  <tbody>\n",
       "    <tr>\n",
       "      <th>920</th>\n",
       "      <td>0.692897</td>\n",
       "      <td>forwardbackward algorithm</td>\n",
       "    </tr>\n",
       "    <tr>\n",
       "      <th>967</th>\n",
       "      <td>0.646946</td>\n",
       "      <td>examples of markov chains</td>\n",
       "    </tr>\n",
       "    <tr>\n",
       "      <th>987</th>\n",
       "      <td>0.576982</td>\n",
       "      <td>models of dna evolution</td>\n",
       "    </tr>\n",
       "    <tr>\n",
       "      <th>468</th>\n",
       "      <td>0.576530</td>\n",
       "      <td>probit model</td>\n",
       "    </tr>\n",
       "    <tr>\n",
       "      <th>756</th>\n",
       "      <td>0.573151</td>\n",
       "      <td>cmaes</td>\n",
       "    </tr>\n",
       "    <tr>\n",
       "      <th>2128</th>\n",
       "      <td>0.571834</td>\n",
       "      <td>bonita bpm</td>\n",
       "    </tr>\n",
       "    <tr>\n",
       "      <th>886</th>\n",
       "      <td>0.571734</td>\n",
       "      <td>partial least squares regression</td>\n",
       "    </tr>\n",
       "    <tr>\n",
       "      <th>1140</th>\n",
       "      <td>0.571006</td>\n",
       "      <td>generalized distributive law</td>\n",
       "    </tr>\n",
       "    <tr>\n",
       "      <th>256</th>\n",
       "      <td>0.565583</td>\n",
       "      <td>bidirectional associative memory</td>\n",
       "    </tr>\n",
       "    <tr>\n",
       "      <th>317</th>\n",
       "      <td>0.565467</td>\n",
       "      <td>multimodal learning</td>\n",
       "    </tr>\n",
       "  </tbody>\n",
       "</table>\n",
       "</div>"
      ],
      "text/plain": [
       "      component_1                           article\n",
       "920      0.692897         forwardbackward algorithm\n",
       "967      0.646946         examples of markov chains\n",
       "987      0.576982           models of dna evolution\n",
       "468      0.576530                      probit model\n",
       "756      0.573151                             cmaes\n",
       "2128     0.571834                        bonita bpm\n",
       "886      0.571734  partial least squares regression\n",
       "1140     0.571006      generalized distributive law\n",
       "256      0.565583  bidirectional associative memory\n",
       "317      0.565467               multimodal learning"
      ]
     },
     "execution_count": 16,
     "metadata": {},
     "output_type": "execute_result"
    }
   ],
   "source": [
    "svd_df[['component_1', 'article']].sort_values('component_1', ascending=False).head(10)"
   ]
  },
  {
   "cell_type": "code",
   "execution_count": 17,
   "metadata": {
    "collapsed": true
   },
   "outputs": [],
   "source": [
    "search_term = 'machine learning search term'\n",
    "search_term2 = tfidf_vectorizer.transform(pd.Series(search_term))"
   ]
  },
  {
   "cell_type": "code",
   "execution_count": 18,
   "metadata": {
    "collapsed": true
   },
   "outputs": [],
   "source": [
    "test = SVD.transform(search_term2)"
   ]
  },
  {
   "cell_type": "code",
   "execution_count": 19,
   "metadata": {
    "collapsed": true
   },
   "outputs": [],
   "source": [
    "arr = svd_df[['component_{}'.format(i+1) for i in range(len(component_names))]].values[0]"
   ]
  },
  {
   "cell_type": "code",
   "execution_count": 20,
   "metadata": {},
   "outputs": [
    {
     "data": {
      "text/plain": [
       "2654"
      ]
     },
     "execution_count": 20,
     "metadata": {},
     "output_type": "execute_result"
    }
   ],
   "source": [
    "len(svd_df[['component_{}'.format(i+1) for i in range(len(component_names))]].values)"
   ]
  },
  {
   "cell_type": "code",
   "execution_count": 21,
   "metadata": {},
   "outputs": [
    {
     "data": {
      "text/plain": [
       "0.48238916464728276"
      ]
     },
     "execution_count": 21,
     "metadata": {},
     "output_type": "execute_result"
    }
   ],
   "source": [
    "np.sqrt(np.sum((test - arr)**2))"
   ]
  },
  {
   "cell_type": "code",
   "execution_count": 22,
   "metadata": {
    "collapsed": true
   },
   "outputs": [],
   "source": [
    "import re\n",
    "def cleaner(message):\n",
    "    message = re.sub('\\.+', ' ', message)\n",
    "    message = re.sub('[^a-z0-9 ]','', message.lower())\n",
    "    message = re.sub('\\d+','NUMBER ',message)\n",
    "    message = re.sub('\\s+',' ',message)\n",
    "    return message"
   ]
  },
  {
   "cell_type": "code",
   "execution_count": 23,
   "metadata": {
    "collapsed": true
   },
   "outputs": [],
   "source": [
    "def evaluate_distance(search_term):\n",
    "    \n",
    "    search_term = cleaner(search_term)\n",
    "    # transform the search term\n",
    "    search_tfdif = tfidf_vectorizer.transform(pd.Series(search_term)) # keeps search term as one word\n",
    "    svd_search_vec = SVD.transform(search_tfdif)\n",
    "    \n",
    "    dataframe = svd_df.copy()\n",
    "    distances = []\n",
    "    \n",
    "    for i in range(len(svd_matrix)):\n",
    "        arr =  svd_matrix[i]\n",
    "        distance = np.sqrt(np.sum((svd_search_vec - arr)**2))\n",
    "        distances.append(distance)\n",
    "    \n",
    "    dataframe['distance'] = distances\n",
    "    \n",
    "    return dataframe[['article', 'distance']].sort_values('distance', ascending=True).head(5)"
   ]
  },
  {
   "cell_type": "code",
   "execution_count": 24,
   "metadata": {},
   "outputs": [
    {
     "data": {
      "text/html": [
       "<div>\n",
       "<table border=\"1\" class=\"dataframe\">\n",
       "  <thead>\n",
       "    <tr style=\"text-align: right;\">\n",
       "      <th></th>\n",
       "      <th>article</th>\n",
       "      <th>distance</th>\n",
       "    </tr>\n",
       "  </thead>\n",
       "  <tbody>\n",
       "    <tr>\n",
       "      <th>919</th>\n",
       "      <td>errordriven learning</td>\n",
       "      <td>0.050469</td>\n",
       "    </tr>\n",
       "    <tr>\n",
       "      <th>145</th>\n",
       "      <td>offline learning</td>\n",
       "      <td>0.092495</td>\n",
       "    </tr>\n",
       "    <tr>\n",
       "      <th>91</th>\n",
       "      <td>inferential theory of learning</td>\n",
       "      <td>0.093550</td>\n",
       "    </tr>\n",
       "    <tr>\n",
       "      <th>14</th>\n",
       "      <td>apprenticeship learning</td>\n",
       "      <td>0.111927</td>\n",
       "    </tr>\n",
       "    <tr>\n",
       "      <th>1042</th>\n",
       "      <td>ian goodfellow</td>\n",
       "      <td>0.115343</td>\n",
       "    </tr>\n",
       "  </tbody>\n",
       "</table>\n",
       "</div>"
      ],
      "text/plain": [
       "                             article  distance\n",
       "919             errordriven learning  0.050469\n",
       "145                 offline learning  0.092495\n",
       "91    inferential theory of learning  0.093550\n",
       "14           apprenticeship learning  0.111927\n",
       "1042                  ian goodfellow  0.115343"
      ]
     },
     "execution_count": 24,
     "metadata": {},
     "output_type": "execute_result"
    }
   ],
   "source": [
    "evaluate_distance(search_term)"
   ]
  },
  {
   "cell_type": "code",
   "execution_count": 25,
   "metadata": {},
   "outputs": [
    {
     "data": {
      "text/html": [
       "<div>\n",
       "<table border=\"1\" class=\"dataframe\">\n",
       "  <thead>\n",
       "    <tr style=\"text-align: right;\">\n",
       "      <th></th>\n",
       "      <th>article</th>\n",
       "      <th>distance</th>\n",
       "    </tr>\n",
       "  </thead>\n",
       "  <tbody>\n",
       "    <tr>\n",
       "      <th>380</th>\n",
       "      <td>encog</td>\n",
       "      <td>0.181131</td>\n",
       "    </tr>\n",
       "    <tr>\n",
       "      <th>309</th>\n",
       "      <td>lernmatrix</td>\n",
       "      <td>0.226026</td>\n",
       "    </tr>\n",
       "    <tr>\n",
       "      <th>333</th>\n",
       "      <td>physical neural network</td>\n",
       "      <td>0.226032</td>\n",
       "    </tr>\n",
       "    <tr>\n",
       "      <th>353</th>\n",
       "      <td>spiking neural network</td>\n",
       "      <td>0.231035</td>\n",
       "    </tr>\n",
       "    <tr>\n",
       "      <th>265</th>\n",
       "      <td>computational neurogenetic modeling</td>\n",
       "      <td>0.246159</td>\n",
       "    </tr>\n",
       "  </tbody>\n",
       "</table>\n",
       "</div>"
      ],
      "text/plain": [
       "                                 article  distance\n",
       "380                                encog  0.181131\n",
       "309                           lernmatrix  0.226026\n",
       "333              physical neural network  0.226032\n",
       "353               spiking neural network  0.231035\n",
       "265  computational neurogenetic modeling  0.246159"
      ]
     },
     "execution_count": 25,
     "metadata": {},
     "output_type": "execute_result"
    }
   ],
   "source": [
    "evaluate_distance('neural network')"
   ]
  },
  {
   "cell_type": "code",
   "execution_count": null,
   "metadata": {
    "collapsed": true
   },
   "outputs": [],
   "source": []
  }
 ],
 "metadata": {
  "kernelspec": {
   "display_name": "Python 3",
   "language": "python",
   "name": "python3"
  },
  "language_info": {
   "codemirror_mode": {
    "name": "ipython",
    "version": 3
   },
   "file_extension": ".py",
   "mimetype": "text/x-python",
   "name": "python",
   "nbconvert_exporter": "python",
   "pygments_lexer": "ipython3",
   "version": "3.5.2"
  }
 },
 "nbformat": 4,
 "nbformat_minor": 2
}
