{
 "cells": [
  {
   "cell_type": "code",
   "execution_count": 3,
   "metadata": {
    "collapsed": true
   },
   "outputs": [],
   "source": [
    "import psycopg2 as pg2\n",
    "from psycopg2.extras import RealDictCursor\n",
    "import pandas as pd\n",
    "import numpy as np\n",
    "from sklearn.feature_extraction.text import TfidfVectorizer\n",
    "from sklearn.feature_extraction.text import ENGLISH_STOP_WORDS\n",
    "from sklearn.linear_model import LogisticRegression\n",
    "from sklearn.ensemble import RandomForestClassifier\n",
    "from sklearn.naive_bayes import BernoulliNB\n",
    "from sklearn.pipeline import Pipeline\n",
    "from sklearn.model_selection import GridSearchCV, train_test_split\n",
    "from sklearn.preprocessing import StandardScaler"
   ]
  },
  {
   "cell_type": "code",
   "execution_count": 4,
   "metadata": {
    "collapsed": true
   },
   "outputs": [],
   "source": [
    "connection = pg2.connect(host='postgres',\n",
    "                         user='postgres',\n",
    "                         database='postgres')\n",
    "cursor = connection.cursor(cursor_factory=RealDictCursor)"
   ]
  },
  {
   "cell_type": "code",
   "execution_count": 5,
   "metadata": {
    "collapsed": true
   },
   "outputs": [],
   "source": [
    "# \n",
    "cursor.execute(\"\"\"SELECT * FROM pages p JOIN page_category c ON p.page_id=c.page_id\"\"\")"
   ]
  },
  {
   "cell_type": "code",
   "execution_count": 6,
   "metadata": {
    "collapsed": true
   },
   "outputs": [],
   "source": [
    "page_cat_df = pd.DataFrame(cursor.fetchall())"
   ]
  },
  {
   "cell_type": "code",
   "execution_count": 7,
   "metadata": {},
   "outputs": [
    {
     "data": {
      "text/plain": [
       "(2658, 5)"
      ]
     },
     "execution_count": 7,
     "metadata": {},
     "output_type": "execute_result"
    }
   ],
   "source": [
    "page_cat_df.shape"
   ]
  },
  {
   "cell_type": "code",
   "execution_count": 8,
   "metadata": {},
   "outputs": [
    {
     "data": {
      "text/html": [
       "<div>\n",
       "<table border=\"1\" class=\"dataframe\">\n",
       "  <thead>\n",
       "    <tr style=\"text-align: right;\">\n",
       "      <th></th>\n",
       "      <th>category_id</th>\n",
       "      <th>page_category_id</th>\n",
       "      <th>page_id</th>\n",
       "      <th>page_text</th>\n",
       "      <th>page_title</th>\n",
       "    </tr>\n",
       "  </thead>\n",
       "  <tbody>\n",
       "    <tr>\n",
       "      <th>160</th>\n",
       "      <td>2</td>\n",
       "      <td>2946</td>\n",
       "      <td>41732818</td>\n",
       "      <td>qloo pronounced clue is a company that uses ar...</td>\n",
       "      <td>qloo</td>\n",
       "    </tr>\n",
       "    <tr>\n",
       "      <th>161</th>\n",
       "      <td>1</td>\n",
       "      <td>1408</td>\n",
       "      <td>41732818</td>\n",
       "      <td>qloo pronounced clue is a company that uses ar...</td>\n",
       "      <td>qloo</td>\n",
       "    </tr>\n",
       "    <tr>\n",
       "      <th>620</th>\n",
       "      <td>2</td>\n",
       "      <td>2900</td>\n",
       "      <td>462546</td>\n",
       "      <td>fico originally fair isaac and company is a da...</td>\n",
       "      <td>fico</td>\n",
       "    </tr>\n",
       "    <tr>\n",
       "      <th>621</th>\n",
       "      <td>1</td>\n",
       "      <td>1840</td>\n",
       "      <td>462546</td>\n",
       "      <td>fico originally fair isaac and company is a da...</td>\n",
       "      <td>fico</td>\n",
       "    </tr>\n",
       "    <tr>\n",
       "      <th>636</th>\n",
       "      <td>2</td>\n",
       "      <td>2515</td>\n",
       "      <td>12185719</td>\n",
       "      <td>kxen was an american software company which ex...</td>\n",
       "      <td>kxen inc</td>\n",
       "    </tr>\n",
       "    <tr>\n",
       "      <th>637</th>\n",
       "      <td>1</td>\n",
       "      <td>1853</td>\n",
       "      <td>12185719</td>\n",
       "      <td>kxen was an american software company which ex...</td>\n",
       "      <td>kxen inc</td>\n",
       "    </tr>\n",
       "    <tr>\n",
       "      <th>670</th>\n",
       "      <td>2</td>\n",
       "      <td>2962</td>\n",
       "      <td>36089423</td>\n",
       "      <td>solveit software pty ltd is a provider of adva...</td>\n",
       "      <td>solveit software</td>\n",
       "    </tr>\n",
       "    <tr>\n",
       "      <th>671</th>\n",
       "      <td>1</td>\n",
       "      <td>1879</td>\n",
       "      <td>36089423</td>\n",
       "      <td>solveit software pty ltd is a provider of adva...</td>\n",
       "      <td>solveit software</td>\n",
       "    </tr>\n",
       "  </tbody>\n",
       "</table>\n",
       "</div>"
      ],
      "text/plain": [
       "     category_id  page_category_id   page_id  \\\n",
       "160            2              2946  41732818   \n",
       "161            1              1408  41732818   \n",
       "620            2              2900    462546   \n",
       "621            1              1840    462546   \n",
       "636            2              2515  12185719   \n",
       "637            1              1853  12185719   \n",
       "670            2              2962  36089423   \n",
       "671            1              1879  36089423   \n",
       "\n",
       "                                             page_text        page_title  \n",
       "160  qloo pronounced clue is a company that uses ar...              qloo  \n",
       "161  qloo pronounced clue is a company that uses ar...              qloo  \n",
       "620  fico originally fair isaac and company is a da...              fico  \n",
       "621  fico originally fair isaac and company is a da...              fico  \n",
       "636  kxen was an american software company which ex...         kxen inc   \n",
       "637  kxen was an american software company which ex...         kxen inc   \n",
       "670  solveit software pty ltd is a provider of adva...  solveit software  \n",
       "671  solveit software pty ltd is a provider of adva...  solveit software  "
      ]
     },
     "execution_count": 8,
     "metadata": {},
     "output_type": "execute_result"
    }
   ],
   "source": [
    "duplicate_mask = page_cat_df.duplicated(subset='page_id', keep=False)\n",
    "\n",
    "page_cat_df.loc[duplicate_mask]"
   ]
  },
  {
   "cell_type": "code",
   "execution_count": 9,
   "metadata": {
    "collapsed": true
   },
   "outputs": [],
   "source": [
    "page_cat_df = page_cat_df[~duplicate_mask]"
   ]
  },
  {
   "cell_type": "code",
   "execution_count": 10,
   "metadata": {},
   "outputs": [
    {
     "data": {
      "text/plain": [
       "(2650, 5)"
      ]
     },
     "execution_count": 10,
     "metadata": {},
     "output_type": "execute_result"
    }
   ],
   "source": [
    "page_cat_df.shape"
   ]
  },
  {
   "cell_type": "code",
   "execution_count": 11,
   "metadata": {
    "collapsed": true
   },
   "outputs": [],
   "source": [
    "to_vectorize = page_cat_df['page_text']\n",
    "y = page_cat_df['category_id']"
   ]
  },
  {
   "cell_type": "code",
   "execution_count": 12,
   "metadata": {
    "collapsed": true
   },
   "outputs": [],
   "source": [
    "tfidf = TfidfVectorizer(min_df = 7, stop_words='english')\n",
    "X = tfidf.fit_transform(to_vectorize)"
   ]
  },
  {
   "cell_type": "code",
   "execution_count": 13,
   "metadata": {
    "collapsed": true
   },
   "outputs": [],
   "source": [
    "X_train, X_test, y_train, y_test = train_test_split(X, y, train_size=.7)"
   ]
  },
  {
   "cell_type": "code",
   "execution_count": 14,
   "metadata": {
    "collapsed": true
   },
   "outputs": [],
   "source": [
    "lr = LogisticRegression()"
   ]
  },
  {
   "cell_type": "code",
   "execution_count": 15,
   "metadata": {},
   "outputs": [
    {
     "data": {
      "text/plain": [
       "LogisticRegression(C=1.0, class_weight=None, dual=False, fit_intercept=True,\n",
       "          intercept_scaling=1, max_iter=100, multi_class='ovr', n_jobs=1,\n",
       "          penalty='l2', random_state=None, solver='liblinear', tol=0.0001,\n",
       "          verbose=0, warm_start=False)"
      ]
     },
     "execution_count": 15,
     "metadata": {},
     "output_type": "execute_result"
    }
   ],
   "source": [
    "lr.fit(X_train, y_train)"
   ]
  },
  {
   "cell_type": "code",
   "execution_count": 16,
   "metadata": {},
   "outputs": [
    {
     "data": {
      "text/plain": [
       "0.97361809045226133"
      ]
     },
     "execution_count": 16,
     "metadata": {},
     "output_type": "execute_result"
    }
   ],
   "source": [
    "lr.score(X_test, y_test)"
   ]
  },
  {
   "cell_type": "code",
   "execution_count": 17,
   "metadata": {},
   "outputs": [
    {
     "data": {
      "text/plain": [
       "0.98327939590075508"
      ]
     },
     "execution_count": 17,
     "metadata": {},
     "output_type": "execute_result"
    }
   ],
   "source": [
    "lr.score(X_train, y_train)"
   ]
  },
  {
   "cell_type": "code",
   "execution_count": 18,
   "metadata": {
    "collapsed": true
   },
   "outputs": [],
   "source": [
    "from sklearn.metrics import confusion_matrix, precision_score, classification_report"
   ]
  },
  {
   "cell_type": "code",
   "execution_count": 19,
   "metadata": {},
   "outputs": [
    {
     "name": "stdout",
     "output_type": "stream",
     "text": [
      "[[288  21]\n",
      " [  0 487]]\n"
     ]
    }
   ],
   "source": [
    "preds = lr.predict(X_test)\n",
    "print (confusion_matrix(y_test, preds))"
   ]
  },
  {
   "cell_type": "code",
   "execution_count": 20,
   "metadata": {},
   "outputs": [
    {
     "name": "stdout",
     "output_type": "stream",
     "text": [
      "             precision    recall  f1-score   support\n",
      "\n",
      "          1       1.00      0.93      0.96       309\n",
      "          2       0.96      1.00      0.98       487\n",
      "\n",
      "avg / total       0.97      0.97      0.97       796\n",
      "\n"
     ]
    }
   ],
   "source": [
    "print (classification_report(y_test, preds))"
   ]
  },
  {
   "cell_type": "code",
   "execution_count": 21,
   "metadata": {},
   "outputs": [
    {
     "data": {
      "text/plain": [
       "GridSearchCV(cv=5, error_score='raise',\n",
       "       estimator=Pipeline(steps=[('scaler', StandardScaler(copy=True, with_mean=True, with_std=True)), ('clf', RandomForestClassifier(bootstrap=True, class_weight=None, criterion='gini',\n",
       "            max_depth=None, max_features='auto', max_leaf_nodes=None,\n",
       "            min_impurity_split=1e-07, min_samples_leaf=1,\n",
       "            min_samples_split=2, min_weight_fraction_leaf=0.0,\n",
       "            n_estimators=10, n_jobs=1, oob_score=False, random_state=None,\n",
       "            verbose=0, warm_start=False))]),\n",
       "       fit_params={}, iid=True, n_jobs=-1,\n",
       "       param_grid={'clf__max_depth': [None, 3, 50, 100], 'clf__n_estimators': [10, 50, 100]},\n",
       "       pre_dispatch='2*n_jobs', refit=True, return_train_score=True,\n",
       "       scoring=None, verbose=0)"
      ]
     },
     "execution_count": 21,
     "metadata": {},
     "output_type": "execute_result"
    }
   ],
   "source": [
    "pipe = Pipeline([\n",
    "    ('scaler', StandardScaler()),\n",
    "    ('clf', RandomForestClassifier())\n",
    "])\n",
    "\n",
    "params = {\n",
    "    'clf__n_estimators': [10, 50, 100],\n",
    "    'clf__max_depth': [None, 3, 50, 100]\n",
    "}\n",
    "\n",
    "rfgs = GridSearchCV(pipe, params, cv = 5, n_jobs=-1)\n",
    "\n",
    "rfgs.fit(X_train.todense(), y_train)"
   ]
  },
  {
   "cell_type": "code",
   "execution_count": 22,
   "metadata": {},
   "outputs": [
    {
     "name": "stdout",
     "output_type": "stream",
     "text": [
      "[[290  19]\n",
      " [  5 482]]\n",
      "             precision    recall  f1-score   support\n",
      "\n",
      "          1       0.98      0.94      0.96       309\n",
      "          2       0.96      0.99      0.98       487\n",
      "\n",
      "avg / total       0.97      0.97      0.97       796\n",
      "\n"
     ]
    }
   ],
   "source": [
    "preds = rfgs.predict(X_test.todense())\n",
    "print (confusion_matrix(y_test, preds))\n",
    "print (classification_report(y_test, preds))"
   ]
  },
  {
   "cell_type": "code",
   "execution_count": 23,
   "metadata": {
    "collapsed": true
   },
   "outputs": [],
   "source": [
    "from sklearn.ensemble import GradientBoostingClassifier\n",
    "\n",
    "gbc = GradientBoostingClassifier()"
   ]
  },
  {
   "cell_type": "code",
   "execution_count": 24,
   "metadata": {},
   "outputs": [
    {
     "data": {
      "text/plain": [
       "GradientBoostingClassifier(criterion='friedman_mse', init=None,\n",
       "              learning_rate=0.1, loss='deviance', max_depth=3,\n",
       "              max_features=None, max_leaf_nodes=None,\n",
       "              min_impurity_split=1e-07, min_samples_leaf=1,\n",
       "              min_samples_split=2, min_weight_fraction_leaf=0.0,\n",
       "              n_estimators=100, presort='auto', random_state=None,\n",
       "              subsample=1.0, verbose=0, warm_start=False)"
      ]
     },
     "execution_count": 24,
     "metadata": {},
     "output_type": "execute_result"
    }
   ],
   "source": [
    "gbc.fit(X_train, y_train)"
   ]
  },
  {
   "cell_type": "code",
   "execution_count": 25,
   "metadata": {},
   "outputs": [
    {
     "data": {
      "text/plain": [
       "0.95854271356783916"
      ]
     },
     "execution_count": 25,
     "metadata": {},
     "output_type": "execute_result"
    }
   ],
   "source": [
    "gbc.score(X_test.toarray(), y_test)"
   ]
  },
  {
   "cell_type": "code",
   "execution_count": 26,
   "metadata": {},
   "outputs": [
    {
     "name": "stdout",
     "output_type": "stream",
     "text": [
      "[[283  26]\n",
      " [  7 480]]\n",
      "             precision    recall  f1-score   support\n",
      "\n",
      "          1       0.98      0.92      0.94       309\n",
      "          2       0.95      0.99      0.97       487\n",
      "\n",
      "avg / total       0.96      0.96      0.96       796\n",
      "\n"
     ]
    }
   ],
   "source": [
    "preds = gbc.predict(X_test.todense())\n",
    "print (confusion_matrix(y_test, preds))\n",
    "print (classification_report(y_test, preds))"
   ]
  },
  {
   "cell_type": "code",
   "execution_count": 27,
   "metadata": {
    "collapsed": true
   },
   "outputs": [],
   "source": [
    "pipe = Pipeline([\n",
    "    ('scaler', StandardScaler()),\n",
    "    ('clf', GradientBoostingClassifier())\n",
    "])\n",
    "\n",
    "params = {\n",
    "    'clf__n_estimators': [80, 100, 150],\n",
    "    'clf__max_depth': [1, 2, 3]\n",
    "}\n",
    "\n",
    "gb_grid = GridSearchCV(pipe, params, cv =5, n_jobs=-1, verbose=2)"
   ]
  },
  {
   "cell_type": "code",
   "execution_count": 28,
   "metadata": {
    "collapsed": true
   },
   "outputs": [
    {
     "name": "stdout",
     "output_type": "stream",
     "text": [
      "Fitting 5 folds for each of 9 candidates, totalling 45 fits\n",
      "[CV] clf__max_depth=1, clf__n_estimators=80 ..........................\n",
      "[CV] clf__max_depth=1, clf__n_estimators=80 ..........................\n",
      "[CV] clf__max_depth=1, clf__n_estimators=80 ..........................\n",
      "[CV] clf__max_depth=1, clf__n_estimators=80 ..........................\n",
      "[CV] ........... clf__max_depth=1, clf__n_estimators=80, total=  53.1s\n",
      "[CV] clf__max_depth=1, clf__n_estimators=80 ..........................\n",
      "[CV] ........... clf__max_depth=1, clf__n_estimators=80, total=  54.0s\n",
      "[CV] ........... clf__max_depth=1, clf__n_estimators=80, total=  56.2s\n",
      "[CV] clf__max_depth=1, clf__n_estimators=100 .........................\n",
      "[CV] clf__max_depth=1, clf__n_estimators=100 .........................\n",
      "[CV] ........... clf__max_depth=1, clf__n_estimators=80, total=  58.5s\n",
      "[CV] clf__max_depth=1, clf__n_estimators=100 .........................\n",
      "[CV] ........... clf__max_depth=1, clf__n_estimators=80, total=  53.3s\n",
      "[CV] clf__max_depth=1, clf__n_estimators=100 .........................\n",
      "[CV] .......... clf__max_depth=1, clf__n_estimators=100, total= 1.1min\n",
      "[CV] clf__max_depth=1, clf__n_estimators=100 .........................\n",
      "[CV] .......... clf__max_depth=1, clf__n_estimators=100, total= 1.1min\n",
      "[CV] clf__max_depth=1, clf__n_estimators=150 .........................\n",
      "[CV] .......... clf__max_depth=1, clf__n_estimators=100, total= 1.1min\n",
      "[CV] clf__max_depth=1, clf__n_estimators=150 .........................\n",
      "[CV] .......... clf__max_depth=1, clf__n_estimators=100, total= 1.3min\n",
      "[CV] clf__max_depth=1, clf__n_estimators=150 .........................\n",
      "[CV] .......... clf__max_depth=1, clf__n_estimators=100, total= 1.4min\n",
      "[CV] clf__max_depth=1, clf__n_estimators=150 .........................\n",
      "[CV] .......... clf__max_depth=1, clf__n_estimators=150, total= 1.9min\n",
      "[CV] .......... clf__max_depth=1, clf__n_estimators=150, total= 1.9min\n",
      "[CV] clf__max_depth=1, clf__n_estimators=150 .........................\n",
      "[CV] clf__max_depth=2, clf__n_estimators=80 ..........................\n",
      "[CV] .......... clf__max_depth=1, clf__n_estimators=150, total= 2.1min\n",
      "[CV] clf__max_depth=2, clf__n_estimators=80 ..........................\n",
      "[CV] .......... clf__max_depth=1, clf__n_estimators=150, total= 2.5min\n",
      "[CV] clf__max_depth=2, clf__n_estimators=80 ..........................\n",
      "[CV] .......... clf__max_depth=1, clf__n_estimators=150, total= 2.5min\n",
      "[CV] clf__max_depth=2, clf__n_estimators=80 ..........................\n",
      "[CV] ........... clf__max_depth=2, clf__n_estimators=80, total= 2.5min\n",
      "[CV] clf__max_depth=2, clf__n_estimators=80 ..........................\n",
      "[CV] ........... clf__max_depth=2, clf__n_estimators=80, total= 2.9min\n",
      "[CV] clf__max_depth=2, clf__n_estimators=100 .........................\n",
      "[CV] ........... clf__max_depth=2, clf__n_estimators=80, total= 3.2min\n",
      "[CV] clf__max_depth=2, clf__n_estimators=100 .........................\n",
      "[CV] ........... clf__max_depth=2, clf__n_estimators=80, total= 3.5min\n",
      "[CV] clf__max_depth=2, clf__n_estimators=100 .........................\n",
      "[CV] ........... clf__max_depth=2, clf__n_estimators=80, total= 3.5min\n",
      "[CV] clf__max_depth=2, clf__n_estimators=100 .........................\n",
      "[CV] .......... clf__max_depth=2, clf__n_estimators=100, total= 4.4min\n",
      "[CV] clf__max_depth=2, clf__n_estimators=100 .........................\n",
      "[CV] .......... clf__max_depth=2, clf__n_estimators=100, total= 4.0min\n",
      "[CV] clf__max_depth=2, clf__n_estimators=150 .........................\n",
      "[CV] .......... clf__max_depth=2, clf__n_estimators=100, total= 3.6min\n",
      "[CV] clf__max_depth=2, clf__n_estimators=150 .........................\n",
      "[CV] .......... clf__max_depth=2, clf__n_estimators=100, total= 3.6min\n",
      "[CV] clf__max_depth=2, clf__n_estimators=150 .........................\n",
      "[CV] .......... clf__max_depth=2, clf__n_estimators=100, total= 3.2min\n",
      "[CV] clf__max_depth=2, clf__n_estimators=150 .........................\n",
      "[CV] .......... clf__max_depth=2, clf__n_estimators=150, total= 6.6min\n",
      "[CV] clf__max_depth=2, clf__n_estimators=150 .........................\n",
      "[CV] .......... clf__max_depth=2, clf__n_estimators=150, total= 6.9min\n",
      "[CV] .......... clf__max_depth=2, clf__n_estimators=150, total= 7.4min\n",
      "[CV] clf__max_depth=3, clf__n_estimators=80 ..........................\n",
      "[CV] clf__max_depth=3, clf__n_estimators=80 ..........................\n",
      "[CV] .......... clf__max_depth=2, clf__n_estimators=150, total= 6.9min\n",
      "[CV] clf__max_depth=3, clf__n_estimators=80 ..........................\n",
      "[CV] ........... clf__max_depth=3, clf__n_estimators=80, total= 4.6min\n",
      "[CV] clf__max_depth=3, clf__n_estimators=80 ..........................\n",
      "[CV] ........... clf__max_depth=3, clf__n_estimators=80, total= 5.0min\n",
      "[CV] clf__max_depth=3, clf__n_estimators=80 ..........................\n",
      "[CV] .......... clf__max_depth=2, clf__n_estimators=150, total= 6.1min\n",
      "[CV] clf__max_depth=3, clf__n_estimators=100 .........................\n",
      "[CV] ........... clf__max_depth=3, clf__n_estimators=80, total= 4.6min\n"
     ]
    },
    {
     "name": "stderr",
     "output_type": "stream",
     "text": [
      "[Parallel(n_jobs=-1)]: Done  33 tasks      | elapsed: 27.3min\n"
     ]
    },
    {
     "name": "stdout",
     "output_type": "stream",
     "text": [
      "[CV] clf__max_depth=3, clf__n_estimators=100 .........................\n",
      "[CV] ........... clf__max_depth=3, clf__n_estimators=80, total= 4.6min\n",
      "[CV] clf__max_depth=3, clf__n_estimators=100 .........................\n",
      "[CV] ........... clf__max_depth=3, clf__n_estimators=80, total= 4.6min\n",
      "[CV] clf__max_depth=3, clf__n_estimators=100 .........................\n",
      "[CV] .......... clf__max_depth=3, clf__n_estimators=100, total= 5.7min\n",
      "[CV] clf__max_depth=3, clf__n_estimators=100 .........................\n",
      "[CV] .......... clf__max_depth=3, clf__n_estimators=100, total= 5.2min\n",
      "[CV] clf__max_depth=3, clf__n_estimators=150 .........................\n",
      "[CV] .......... clf__max_depth=3, clf__n_estimators=100, total= 5.7min\n",
      "[CV] clf__max_depth=3, clf__n_estimators=150 .........................\n",
      "[CV] .......... clf__max_depth=3, clf__n_estimators=100, total= 6.7min\n",
      "[CV] clf__max_depth=3, clf__n_estimators=150 .........................\n",
      "[CV] .......... clf__max_depth=3, clf__n_estimators=100, total= 5.5min\n",
      "[CV] clf__max_depth=3, clf__n_estimators=150 .........................\n",
      "[CV] .......... clf__max_depth=3, clf__n_estimators=150, total= 8.9min\n",
      "[CV] clf__max_depth=3, clf__n_estimators=150 .........................\n",
      "[CV] .......... clf__max_depth=3, clf__n_estimators=150, total= 8.1min\n",
      "[CV] .......... clf__max_depth=3, clf__n_estimators=150, total= 7.1min\n",
      "[CV] .......... clf__max_depth=3, clf__n_estimators=150, total= 7.1min\n",
      "[CV] .......... clf__max_depth=3, clf__n_estimators=150, total= 4.4min\n"
     ]
    },
    {
     "name": "stderr",
     "output_type": "stream",
     "text": [
      "[Parallel(n_jobs=-1)]: Done  45 out of  45 | elapsed: 45.9min finished\n"
     ]
    },
    {
     "data": {
      "text/plain": [
       "GridSearchCV(cv=5, error_score='raise',\n",
       "       estimator=Pipeline(steps=[('scaler', StandardScaler(copy=True, with_mean=True, with_std=True)), ('clf', GradientBoostingClassifier(criterion='friedman_mse', init=None,\n",
       "              learning_rate=0.1, loss='deviance', max_depth=3,\n",
       "              max_features=None, max_leaf_nodes=None,\n",
       "              min_impurity_split=1...=100, presort='auto', random_state=None,\n",
       "              subsample=1.0, verbose=0, warm_start=False))]),\n",
       "       fit_params={}, iid=True, n_jobs=-1,\n",
       "       param_grid={'clf__max_depth': [1, 2, 3], 'clf__n_estimators': [80, 100, 150]},\n",
       "       pre_dispatch='2*n_jobs', refit=True, return_train_score=True,\n",
       "       scoring=None, verbose=2)"
      ]
     },
     "execution_count": 28,
     "metadata": {},
     "output_type": "execute_result"
    }
   ],
   "source": [
    "gb_grid.fit(X_train.todense(), y_train)"
   ]
  },
  {
   "cell_type": "code",
   "execution_count": 29,
   "metadata": {},
   "outputs": [
    {
     "data": {
      "text/plain": [
       "0.95854271356783916"
      ]
     },
     "execution_count": 29,
     "metadata": {},
     "output_type": "execute_result"
    }
   ],
   "source": [
    "gb_grid.score(X_test.todense(), y_test)"
   ]
  },
  {
   "cell_type": "code",
   "execution_count": 31,
   "metadata": {},
   "outputs": [
    {
     "name": "stdout",
     "output_type": "stream",
     "text": [
      "[[283  26]\n",
      " [  7 480]]\n",
      "             precision    recall  f1-score   support\n",
      "\n",
      "          1       0.98      0.92      0.94       309\n",
      "          2       0.95      0.99      0.97       487\n",
      "\n",
      "avg / total       0.96      0.96      0.96       796\n",
      "\n"
     ]
    }
   ],
   "source": [
    "preds = gb_grid.predict(X_test.todense())\n",
    "print (confusion_matrix(y_test, preds))\n",
    "print (classification_report(y_test, preds))"
   ]
  },
  {
   "cell_type": "code",
   "execution_count": 35,
   "metadata": {
    "collapsed": true
   },
   "outputs": [],
   "source": [
    "# pd.DataFrame(gb_grid.cv_results_).sort_values('rank_test_score').head(5)"
   ]
  },
  {
   "cell_type": "code",
   "execution_count": 69,
   "metadata": {
    "collapsed": true
   },
   "outputs": [],
   "source": [
    "def predict_category(search_query):\n",
    "    search_query = pd.Series(search_query)\n",
    "    query_vec = tfidf.transform(search_query)\n",
    "    prediction = lr.predict(query_vec)\n",
    "    probas = lr.predict_proba(query_vec)\n",
    "    if prediction == 1:\n",
    "        prediction = 'machine learning'\n",
    "    else:\n",
    "        prediction = 'business software'\n",
    "    print ('''this query most likely falls under: {}'''.format(prediction))\n",
    "    return pd.DataFrame(probas, columns = ['machine learning', 'business software'])"
   ]
  },
  {
   "cell_type": "code",
   "execution_count": 72,
   "metadata": {
    "collapsed": true
   },
   "outputs": [],
   "source": [
    "marx = \"\"\"The Communists are distinguished from the other working-class \n",
    "parties by this only: 1. In the national struggles of the proletarians of \n",
    "the different countries, they point out and bring to the front the common \n",
    "interests of the entire proletariat, independently of all nationality. 2.\n",
    "In the various stages of development which the struggle of the working class \n",
    "against the bourgeoisie has to pass through, they always and everywhere represent \n",
    "the interests of the movement as a whole.\n",
    "The Communists, therefore, are on the one hand, practically, \n",
    "the most advanced and resolute section of the working-class parties of every country,\n",
    "that section which pushes forward all others; on the other hand, \n",
    "theoretically, they have over the great mass of the proletariat the \n",
    "advantage of clearly understanding the line of march, the conditions, \n",
    "and the ultimate general results of the proletarian movement.\"\"\""
   ]
  },
  {
   "cell_type": "code",
   "execution_count": 73,
   "metadata": {},
   "outputs": [
    {
     "name": "stdout",
     "output_type": "stream",
     "text": [
      "this query most likely falls under: business software\n"
     ]
    },
    {
     "data": {
      "text/html": [
       "<div>\n",
       "<table border=\"1\" class=\"dataframe\">\n",
       "  <thead>\n",
       "    <tr style=\"text-align: right;\">\n",
       "      <th></th>\n",
       "      <th>machine learning</th>\n",
       "      <th>business software</th>\n",
       "    </tr>\n",
       "  </thead>\n",
       "  <tbody>\n",
       "    <tr>\n",
       "      <th>0</th>\n",
       "      <td>0.457771</td>\n",
       "      <td>0.542229</td>\n",
       "    </tr>\n",
       "  </tbody>\n",
       "</table>\n",
       "</div>"
      ],
      "text/plain": [
       "   machine learning  business software\n",
       "0          0.457771           0.542229"
      ]
     },
     "execution_count": 73,
     "metadata": {},
     "output_type": "execute_result"
    }
   ],
   "source": [
    "predict_category(marx)"
   ]
  },
  {
   "cell_type": "code",
   "execution_count": 74,
   "metadata": {
    "collapsed": true
   },
   "outputs": [],
   "source": [
    "test = 'the quick brown fox jumped over the lazy dogs'"
   ]
  },
  {
   "cell_type": "code",
   "execution_count": 75,
   "metadata": {},
   "outputs": [
    {
     "name": "stdout",
     "output_type": "stream",
     "text": [
      "this query most likely falls under: business software\n"
     ]
    },
    {
     "data": {
      "text/html": [
       "<div>\n",
       "<table border=\"1\" class=\"dataframe\">\n",
       "  <thead>\n",
       "    <tr style=\"text-align: right;\">\n",
       "      <th></th>\n",
       "      <th>machine learning</th>\n",
       "      <th>business software</th>\n",
       "    </tr>\n",
       "  </thead>\n",
       "  <tbody>\n",
       "    <tr>\n",
       "      <th>0</th>\n",
       "      <td>0.458686</td>\n",
       "      <td>0.541314</td>\n",
       "    </tr>\n",
       "  </tbody>\n",
       "</table>\n",
       "</div>"
      ],
      "text/plain": [
       "   machine learning  business software\n",
       "0          0.458686           0.541314"
      ]
     },
     "execution_count": 75,
     "metadata": {},
     "output_type": "execute_result"
    }
   ],
   "source": [
    "predict_category(test)"
   ]
  },
  {
   "cell_type": "code",
   "execution_count": 76,
   "metadata": {},
   "outputs": [
    {
     "name": "stdout",
     "output_type": "stream",
     "text": [
      "this query most likely falls under: machine learning\n"
     ]
    },
    {
     "data": {
      "text/html": [
       "<div>\n",
       "<table border=\"1\" class=\"dataframe\">\n",
       "  <thead>\n",
       "    <tr style=\"text-align: right;\">\n",
       "      <th></th>\n",
       "      <th>machine learning</th>\n",
       "      <th>business software</th>\n",
       "    </tr>\n",
       "  </thead>\n",
       "  <tbody>\n",
       "    <tr>\n",
       "      <th>0</th>\n",
       "      <td>0.938165</td>\n",
       "      <td>0.061835</td>\n",
       "    </tr>\n",
       "  </tbody>\n",
       "</table>\n",
       "</div>"
      ],
      "text/plain": [
       "   machine learning  business software\n",
       "0          0.938165           0.061835"
      ]
     },
     "execution_count": 76,
     "metadata": {},
     "output_type": "execute_result"
    }
   ],
   "source": [
    "neural_network = 'neural networks'\n",
    "predict_category(neural_network)"
   ]
  },
  {
   "cell_type": "code",
   "execution_count": 103,
   "metadata": {
    "collapsed": true
   },
   "outputs": [],
   "source": [
    "import requests\n",
    "import re \n",
    "\n",
    "def cleaner(message):\n",
    "    message = re.sub('\\.+', ' ', message)\n",
    "    message = re.sub('[^a-z0-9 ]','', message.lower())\n",
    "    message = re.sub('\\d+','NUMBER ',message)\n",
    "    message = re.sub('\\s+',' ',message)\n",
    "    return message\n",
    "\n",
    "def predict_by_url(url): \n",
    "    url = url.split(\"/\")\n",
    "    page = url[-1]\n",
    "    wiki_query = \\\n",
    "    'https://en.wikipedia.org/w/api.php?format=json&action=query&prop=extracts&explaintext&titles={}'.format(page)\n",
    "    response = requests.get(wiki_query)\n",
    "    info = response.json()\n",
    "    pageid = list(info['query']['pages'].keys())[0]\n",
    "    text = info['query']['pages'][pageid]['extract']\n",
    "    text = cleaner(text)\n",
    "    text = pd.Series(text)\n",
    "    vectorized = tfidf.transform(text)\n",
    "    prediction = lr.predict(vectorized)\n",
    "    probas = lr.predict_proba(vectorized)\n",
    "    if prediction == 1:\n",
    "        prediction = 'machine learning'\n",
    "    else:\n",
    "        prediction = 'business software'\n",
    "    print ('''this url most likely falls under: {}'''.format(prediction))\n",
    "    return pd.DataFrame(probas, columns = ['machine learning', 'business software'])"
   ]
  },
  {
   "cell_type": "code",
   "execution_count": 105,
   "metadata": {},
   "outputs": [
    {
     "name": "stdout",
     "output_type": "stream",
     "text": [
      "this url most likely falls under: machine learning\n"
     ]
    },
    {
     "data": {
      "text/html": [
       "<div>\n",
       "<table border=\"1\" class=\"dataframe\">\n",
       "  <thead>\n",
       "    <tr style=\"text-align: right;\">\n",
       "      <th></th>\n",
       "      <th>machine learning</th>\n",
       "      <th>business software</th>\n",
       "    </tr>\n",
       "  </thead>\n",
       "  <tbody>\n",
       "    <tr>\n",
       "      <th>0</th>\n",
       "      <td>0.998942</td>\n",
       "      <td>0.001058</td>\n",
       "    </tr>\n",
       "  </tbody>\n",
       "</table>\n",
       "</div>"
      ],
      "text/plain": [
       "   machine learning  business software\n",
       "0          0.998942           0.001058"
      ]
     },
     "execution_count": 105,
     "metadata": {},
     "output_type": "execute_result"
    }
   ],
   "source": [
    "url = \"https://en.wikipedia.org/wiki/Machine_learning\"\n",
    "predict_by_url(url)"
   ]
  },
  {
   "cell_type": "code",
   "execution_count": null,
   "metadata": {
    "collapsed": true
   },
   "outputs": [],
   "source": []
  }
 ],
 "metadata": {
  "kernelspec": {
   "display_name": "Python 3",
   "language": "python",
   "name": "python3"
  },
  "language_info": {
   "codemirror_mode": {
    "name": "ipython",
    "version": 3
   },
   "file_extension": ".py",
   "mimetype": "text/x-python",
   "name": "python",
   "nbconvert_exporter": "python",
   "pygments_lexer": "ipython3",
   "version": "3.5.2"
  }
 },
 "nbformat": 4,
 "nbformat_minor": 2
}
